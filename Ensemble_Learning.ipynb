{
  "nbformat": 4,
  "nbformat_minor": 0,
  "metadata": {
    "colab": {
      "provenance": []
    },
    "kernelspec": {
      "name": "python3",
      "display_name": "Python 3"
    },
    "language_info": {
      "name": "python"
    }
  },
  "cells": [
    {
      "cell_type": "markdown",
      "source": [
        "# Ensemble Learning"
      ],
      "metadata": {
        "id": "-lETNms1NAYn"
      }
    },
    {
      "cell_type": "markdown",
      "source": [
        "1. Can we use Bagging for regression problems?\n",
        "- Yes, Bagging (Bootstrap Aggregating) can be used for regression problems, not just classification.\n",
        "  - Explanation:\n",
        "    - Bagging involves training multiple models (usually decision trees) on different random subsets of the training data (with replacement), and then aggregating their predictions.\n",
        "    - In regression, the aggregation is typically done by averaging the outputs of all the base learners.\n",
        "    - This technique helps in reducing variance and improving prediction stability."
      ],
      "metadata": {
        "id": "jqBzmknWNAjk"
      }
    },
    {
      "cell_type": "markdown",
      "source": [
        "2. What is the difference between multiple model training and single model training?\n",
        "- Single model training refers to the process of training only one machine learning model on a dataset to make predictions or classifications.\n",
        "\n",
        "- Multiple model training, also known as Ensemble Learning, is the process of training two or more models and combining their predictions to improve overall performance.\n",
        "\n",
        "- difference between multiple model training and single model training >>\n",
        "\n",
        "\n",
        "- Single Model Training:\n",
        "  - Only one model is trained on the entire dataset.\n",
        "  - The model alone handles the prediction task.\n",
        "  - Performance depends entirely on this single model.\n",
        "  - More prone to overfitting or underfitting depending on model complexity.\n",
        "  - Easier and faster to train, but less robust to noise and data variations.\n",
        "  - Examples: A single Decision Tree, Linear Regression, or SVM.\n",
        "  \n",
        "\n",
        "- Multiple Model Training (Ensemble Learning):\n",
        "  - Multiple models are trained, often on different data subsets or features.\n",
        "  - The predictions from all models are combined (averaged or voted).\n",
        "  - Provides better generalization and more stable predictions.\n",
        "  - Reduces overfitting by averaging out individual model errors.\n",
        "  - Takes more time and resources, but often results in higher accuracy.\n",
        "  - Examples: Bagging (Random Forest), Boosting (XGBoost), Stacking."
      ],
      "metadata": {
        "id": "yjbTMbXKNArq"
      }
    },
    {
      "cell_type": "markdown",
      "source": [
        "3. Explain the concept of feature randomness in Random Forests.\n",
        "- Concept of Feature Randomness in Random Forests >>\n",
        "- In Random Forests, feature randomness means that at each split in a decision tree, only a random subset of features is considered instead of using all the features.\n",
        "- This randomness helps in creating diverse trees, which is essential for reducing correlation among the trees in the ensemble.\n",
        "- It prevents all trees from choosing the same best features, which makes the overall model more robust and generalized.\n",
        "- By using different features at each split, Random Forest avoids overfitting to the training data.\n",
        "- The number of randomly selected features is controlled using the max_features parameter in most libraries (e.g., scikit-learn).\n",
        "- This approach works together with data randomness (bagging) to improve prediction accuracy and model stability."
      ],
      "metadata": {
        "id": "iLsQ5PAPNAzx"
      }
    },
    {
      "cell_type": "markdown",
      "source": [
        "4. What is Bootstrap (or Bagging) core?\n",
        "- Core Concept of Bootstrap (Bagging) >>\n",
        " - Bootstrap is a statistical technique where multiple datasets are created by random sampling with replacement from the original dataset.\n",
        " - In Bagging (Bootstrap Aggregating), these bootstrap samples are used to train multiple models independently.\n",
        " - Each model is trained on a different random subset of the data, which introduces data diversity.\n",
        " - The final prediction is made by aggregating (e.g., majority voting for classification or averaging for regression) the predictions of all models.\n",
        " - Bagging helps reduce variance and overfitting, improving model stability and accuracy.\n",
        " - It is commonly used with decision trees to form algorithms like Random Forests."
      ],
      "metadata": {
        "id": "qHs2-OEVNA7S"
      }
    },
    {
      "cell_type": "markdown",
      "source": [
        "5. How can you measure the importance of features in a Random Forest model?\n",
        "- Feature importance in a Random Forest model can be measured using several methods. The most common ones are:\n",
        "\n",
        "- Mean Decrease in Impurity (MDI):\n",
        "  - Also called Gini importance.\n",
        "  - It measures the total reduction in the splitting criterion (like Gini impurity for classification) brought by each feature, averaged over all trees.\n",
        "  - Features that decrease impurity the most are considered more important.\n",
        "\n",
        "- Mean Decrease in Accuracy (MDA):\n",
        "  - Also known as permutation importance.\n",
        "  - After the model is trained, the values of a feature are randomly shuffled in the test dataset, and the drop in model accuracy is measured.\n",
        "  - A bigger drop means the feature is more important.\n",
        "\n",
        "- Permutation Importance:\n",
        "  - Similar to MDA, it’s a model-agnostic approach where the feature values are permuted and the change in prediction error is recorded\n",
        "  - It can be computed on any dataset (train or test) and is useful to interpret feature impact\n",
        "\n",
        "- Built-in Feature Importance Attributes:\n",
        "  - Libraries like scikit-learn provide easy access to feature importance scores through the feature_importances_ attribute of the trained Random Forest model."
      ],
      "metadata": {
        "id": "k63VLIIiNBJj"
      }
    },
    {
      "cell_type": "markdown",
      "source": [
        "6. Explain the working principle of a Bagging Classifier.\n",
        "- A Bagging Classifier works by combining multiple models trained on different random subsets of the training data to improve accuracy and reduce overfitting. Here’s how it operates:\n",
        " - Bootstrap Sampling: Create several new training datasets by randomly sampling with replacement from the original dataset. Each dataset may contain duplicates and excludes some original samples.\n",
        " - Train Base Models: Train a base classifier (often decision trees) separately on each of these bootstrap samples.\n",
        " - Combine Predictions: For classification, combine the predictions of all base models through majority voting to decide the final class.\n",
        " - Benefits: This approach lowers variance, making the ensemble more robust and accurate than any single model alone."
      ],
      "metadata": {
        "id": "hW4tWi1TNBPV"
      }
    },
    {
      "cell_type": "markdown",
      "source": [
        "7. How do you evaluate a Bagging Classifier’s performance?\n",
        "- You can evaluate a Bagging Classifier’s performance using the same methods applied to other classifiers. Common evaluation techniques include:\n",
        "- Train-Test Split:\n",
        "  - Split the dataset into training and testing sets.\n",
        "  - Train the Bagging Classifier on the training data and evaluate on the test data to check generalization.\n",
        "\n",
        "- Accuracy:\n",
        "  - Calculate the percentage of correctly classified instances on the test set.\n",
        "\n",
        "- Confusion Matrix:\n",
        "  - Provides detailed insight into true positives, false positives, true negatives, and false negatives.\n",
        "  - Useful for imbalanced datasets.\n",
        "\n",
        "- Precision, Recall, and F1-Score:\n",
        "  - These metrics give a balanced view of model performance, especially in cases of uneven class distribution.\n",
        "\n",
        "- Cross-Validation:\n",
        "  - Perform k-fold cross-validation to assess model stability and performance across different data splits.\n",
        "\n",
        "- ROC Curve and AUC:\n",
        "  - For binary classification, plot the Receiver Operating Characteristic (ROC) curve and calculate the Area Under the Curve (AUC) to evaluate model discrimination ability.\n",
        "   "
      ],
      "metadata": {
        "id": "Ff_KOmHcNBVE"
      }
    },
    {
      "cell_type": "markdown",
      "source": [
        "8. How does a Bagging Regressor work?\n",
        "- A Bagging Regressor is an ensemble method designed to improve regression performance by combining multiple models. Here’s how it works:\n",
        "- Bootstrap Sampling:\n",
        "  - Generate multiple new training datasets by randomly sampling with replacement from the original data.\n",
        "\n",
        "- Train Base Regressors:\n",
        "  - Train a base regression model (commonly decision trees) separately on each bootstrap sample.\n",
        "\n",
        "- Aggregate Predictions:\n",
        "  - For a given input, each trained regressor makes a prediction. The final output is obtained by averaging these predictions.\n",
        "\n",
        "- Reduce Variance:\n",
        "  - This averaging process reduces variance and helps prevent overfitting, resulting in more stable and accurate predictions compared to a single regressor."
      ],
      "metadata": {
        "id": "SuGHaKoGNBiK"
      }
    },
    {
      "cell_type": "markdown",
      "source": [
        "9. What is the main advantage of ensemble techniques?\n",
        "- Improved Prediction Accuracy:Ensemble methods combine multiple models to produce a more accurate and reliable prediction than any single model could achieve alone.\n",
        "\n",
        "- Reduction of Overfitting:By aggregating predictions from diverse models, ensembles reduce the chance that the model will fit noise or anomalies in the training data.\n",
        "\n",
        "- Increased Stability and Robustness:Since the errors of individual models tend to cancel out, ensembles are less sensitive to the peculiarities of any one training sample, making them more stable.\n",
        "\n",
        "- Ability to Handle Complex Problems:Ensembles can capture complex patterns by combining simple models, which individually might be too weak or biased.\n",
        "\n",
        "- Improved Generalization:The collective decision of multiple models typically generalizes better to new, unseen data, leading to better performance in real-world scenarios.\n",
        "\n",
        "- Flexibility in Model Choice:Ensembles can combine different types of models (heterogeneous ensembles), allowing them to leverage the unique strengths of each model type.\n",
        "\n",
        "- Error Compensation:Different models may make different errors; combining them helps in compensating for individual mistakes, reducing overall error."
      ],
      "metadata": {
        "id": "57e5DQcPNBrM"
      }
    },
    {
      "cell_type": "markdown",
      "source": [
        "10. What is the main challenge of ensemble methods?\n",
        "- Increased Computational Cost:Ensemble methods require training multiple base models instead of just one. This means significantly more computational power and time, especially when models are complex or datasets are large. This can limit their use in real-time or resource-constrained environments.\n",
        "\n",
        "- Implementation Complexity:Managing multiple models involves more complex workflows. Choosing the right base models, tuning hyperparameters for each, and deciding how to combine their outputs adds layers of difficulty compared to training a single model.\n",
        "\n",
        "- Interpretability and Transparency Issues:While single models like decision trees are easy to understand, ensembles combine many models and their decisions. This “black box” nature makes it challenging to explain individual predictions to stakeholders or comply with regulations demanding model transparency.\n",
        "\n",
        "- Potential Overfitting in Certain Scenarios:Although ensemble techniques generally reduce overfitting, if the base models are too complex or highly correlated, the ensemble might still overfit the training data, especially with small datasets.\n",
        "\n",
        "- Data Requirements:Ensembles often perform best with large amounts of data since each model needs enough information to learn diverse patterns. With limited data, the benefit of using multiple models might be minimal or even harmful.\n",
        "\n",
        "- Memory and Storage Needs:Storing and maintaining multiple models increases memory usage and disk space. This can be problematic in environments with limited hardware resources."
      ],
      "metadata": {
        "id": "0mUcSUPUWXfG"
      }
    },
    {
      "cell_type": "markdown",
      "source": [
        "11. Explain the key idea behind ensemble techniques.\n",
        "- The key idea behind ensemble techniques is to combine multiple individual models to create a single, stronger predictive model. This approach relies on the principle that a group of weak or moderately strong models can come together to form a more accurate and reliable model than any one of them alone.\n",
        " - Here’s how it works:\n",
        "   - Different models trained on the same task may make different errors.\n",
        "   - By aggregating their predictions—through voting, averaging, or another combining method—these errors can cancel out.\n",
        "   - This results in improved overall performance, such as higher accuracy and better generalization to unseen data.\n",
        "   - Ensemble methods also help in reducing variance (by averaging models) and bias (by combining diverse models).\n",
        "\n",
        "- Overall, ensemble techniques leverage diversity and collaboration among models to achieve better results than single models."
      ],
      "metadata": {
        "id": "FfuIp6yoWXrt"
      }
    },
    {
      "cell_type": "markdown",
      "source": [
        "12. What is a Random Forest Classifier?\n",
        "- A Random Forest Classifier is an ensemble learning method used for classification tasks. It builds multiple decision trees during training and combines their predictions to improve accuracy and control overfitting. Key points:\n",
        " - It uses bagging (bootstrap aggregating) to create different subsets of the training data for each tree.\n",
        " - At each split in a tree, it selects a random subset of features to decide the best split, introducing feature randomness.\n",
        " - The final class prediction is made by majority voting among all the trees.\n",
        " - Random Forests are known for being robust, accurate, and resistant to overfitting compared to single decision trees.\n",
        " - They work well with large datasets and can handle high-dimensional data effectively.\n"
      ],
      "metadata": {
        "id": "--rOQb2kWX01"
      }
    },
    {
      "cell_type": "markdown",
      "source": [
        "13. What are the main types of ensemble techniques?\n",
        "- There are three main types of ensemble techniques, each combining multiple models in a unique way:\n",
        "\n",
        "- Bagging (Bootstrap Aggregating):\n",
        "  - Trains multiple models on different random subsets of the training data (with replacement).\n",
        "  - Final prediction is made through majority voting (classification) or averaging (regression).\n",
        "  - Example: Random Forest\n",
        "\n",
        "- Boosting:\n",
        "  - Trains models sequentially. Each new model focuses on correcting the errors made by the previous ones.\n",
        "  - Models are combined with weights based on their accuracy.\n",
        "  - Example: AdaBoost, Gradient Boosting, XGBoost\n",
        "\n",
        "- Stacking (Stacked Generalization):\n",
        "  - Trains multiple different models (called base learners) and then uses another model (meta-learner) to combine their outputs.\n",
        "  - Helps capture the strengths of different algorithms.\n",
        "  - Example: Combining Logistic Regression, SVM, and Decision Trees using a meta-model like a Random Forest."
      ],
      "metadata": {
        "id": "LFkm82cRWX9z"
      }
    },
    {
      "cell_type": "markdown",
      "source": [
        "14. What is ensemble learning in machine learning?\n",
        "- Ensemble learning in machine learning is a technique where multiple models (often called “learners” or “base models”) are trained and combined to solve the same problem in order to achieve better performance than any single model alone.\n",
        "- Key Points:\n",
        " - Combining Multiple Models:\n",
        "   - Instead of relying on one model, ensemble learning combines predictions from multiple models to make the final decision.\n",
        " - Improved Accuracy and Robustness:\n",
        "   - The combination helps to reduce variance, bias, and noise, leading to more accurate and stable predictions.\n",
        "\n",
        " - Types of Ensemble Methods:\n",
        "   - Bagging: Builds models independently in parallel (e.g., Random Forest).\n",
        "   - Boosting: Builds models sequentially, correcting errors step by step (e.g., AdaBoost, XGBoost).\n",
        "   - Stacking: Combines different types of models and uses a meta-model to make the final prediction.\n",
        "\n",
        " - Applications:\n",
        "   - Used in both classification and regression tasks across various fields like finance, healthcare, and marketing.\n",
        "\n",
        "- In simple terms, ensemble learning is like taking advice from a group of experts instead of relying on just one opinion, leading to smarter decisions.\n"
      ],
      "metadata": {
        "id": "gHL2YykTWYFR"
      }
    },
    {
      "cell_type": "markdown",
      "source": [
        "15. When should we avoid using ensemble methods?\n",
        "- While ensemble methods are powerful, there are certain situations where they should be avoided or used with caution:\n",
        "\n",
        "- When Interpretability is Crucial:\n",
        " - Ensemble models (like Random Forests or Gradient Boosting) are complex and often act like black boxes. In domains like healthcare or finance, where decisions must be explainable, simpler models (like decision trees or linear models) are preferred.\n",
        "\n",
        "- When You Have Limited Data:\n",
        "  - Ensemble techniques rely on multiple models trained on data subsets. With small datasets, these subsets may not capture enough information, leading to poor performance and overfitting.\n",
        "\n",
        "- When Computational Resources Are Limited:\n",
        "  - Training and maintaining multiple models require more time, memory, and processing power. On low-resource systems or in real-time applications, ensembles may be inefficient or impractical.\n",
        "\n",
        "- When a Simple Model Performs Well:\n",
        "  - If a single model like logistic regression or a decision tree already provides high accuracy and meets requirements, using an ensemble adds unnecessary complexity without significant gains.\n",
        "\n",
        "- During Rapid Prototyping:\n",
        "  - For quick experimentation or proof-of-concept stages, it's better to start with simple, fast models. Ensembles can be added later if needed for performance."
      ],
      "metadata": {
        "id": "ObIkkyVnft-T"
      }
    },
    {
      "cell_type": "markdown",
      "source": [
        "16. How does Bagging help in reducing overfitting?\n",
        "- Bagging (Bootstrap Aggregating) helps reduce overfitting by training multiple models on different random subsets of the data and then aggregating their outputs. Here's how it works to reduce overfitting:\n",
        "\n",
        "- Random Sampling with Replacement:\n",
        "  - Bagging creates multiple datasets by randomly sampling (with replacement) from the original training data. This introduces diversity in the training sets, leading to different models learning different patterns.\n",
        "\n",
        "- Model Independence:\n",
        "  - Each model is trained independently on its own bootstrap sample. Since no single model sees the entire data, they are less likely to learn noise or overfit to specific instances.\n",
        "\n",
        "- Averaging Predictions:\n",
        "  - For regression, predictions from all models are averaged. For classification, majority voting is used. This smooths out extreme predictions from any one model, reducing variance and the effect of overfitting.\n",
        "\n",
        "- Variance Reduction:\n",
        "  - Overfitting often arises from high variance. Bagging reduces variance by combining multiple high-variance models (like decision trees) into a single, stable prediction.\n",
        "\n",
        "- In short: Bagging reduces overfitting by creating diverse models from random subsets of data and combining their predictions to produce a more balanced and generalizable output."
      ],
      "metadata": {
        "id": "L5gEhagEfuQL"
      }
    },
    {
      "cell_type": "markdown",
      "source": [
        "17. Why is Random Forest better than a single Decision Tree?\n",
        "- A Random Forest is generally better than a single Decision Tree because it combines the strengths of many trees, leading to improved performance and reliability. Here's a comparison of the two:\n",
        "\n",
        "- Higher Accuracy:\n",
        "  - Random Forest aggregates the results of multiple decision trees, which usually leads to better accuracy and performance than relying on a single tree.\n",
        "\n",
        "- Reduced Overfitting:\n",
        "  - Decision trees are prone to overfitting, especially on noisy data. Random Forest reduces overfitting by averaging the results of many trees trained on different subsets of data and features.\n",
        "\n",
        "- Improved Stability:\n",
        "  - A single tree can change significantly with a small change in data. Random Forest, being an ensemble, is more stable and less sensitive to data variations.\n",
        "\n",
        "- Better Generalization:\n",
        "  - By combining predictions from multiple models, Random Forest generalizes better to unseen data, improving test set performance.\n",
        "\n",
        "- Automatic Feature Selection:\n",
        "  - Random Forest naturally ranks the importance of features and reduces the influence of irrelevant ones, while a single decision tree may easily be misled by noise or irrelevant features.\n",
        "\n",
        "- Handles Missing Values & Imbalance Better:\n",
        "  - Random Forest can handle missing values and class imbalance more gracefully than a single decision tree.\n",
        "\n",
        "- Built-in Feature Importance:\n",
        "  - Random Forest provides a natural mechanism to evaluate the importance of each feature, helping in feature selection and improving model interpretability at a broader level.\n",
        "\n",
        "- Scalability and Parallelism:\n",
        "  - Since each tree in a Random Forest is trained independently, the process can be parallelized easily, making it scalable for large datasets and faster to train with appropriate hardware."
      ],
      "metadata": {
        "id": "Pf0ZiCrnfuZv"
      }
    },
    {
      "cell_type": "markdown",
      "source": [
        "18. What is the role of bootstrap sampling in Bagging?\n",
        "- The role of bootstrap sampling in Bagging (Bootstrap Aggregating) is to introduce diversity among the models by training each one on a different subset of the original data. Here's a detailed explanation:\n",
        "\n",
        "- Creates Multiple Training Sets:\n",
        "  - Bootstrap sampling involves randomly selecting data points with replacement from the original dataset to create multiple new datasets. Each model in the ensemble is trained on one of these samples.\n",
        "\n",
        "- Promotes Model Diversity:\n",
        "  - Since each bootstrap sample is slightly different, the models learn different patterns. This diversity is crucial because combining similar models wouldn't improve performance much.\n",
        "\n",
        "- Reduces Overfitting:\n",
        "  - Training on different samples ensures that no model overfits the entire dataset. When their predictions are aggregated (e.g., by voting or averaging), the ensemble becomes more generalized and less prone to overfitting.\n",
        "\n",
        "- Enables Reliable Aggregation:\n",
        "  - By ensuring that models are not trained on the exact same data, bootstrap sampling justifies the need for combining their outputs — since each model brings a unique perspective.\n",
        "\n",
        "- Ensures Robustness:\n",
        "  - Some observations might not appear in certain bootstrap samples. This helps the model become less dependent on specific data points, improving robustness."
      ],
      "metadata": {
        "id": "lsow5UkifukK"
      }
    },
    {
      "cell_type": "markdown",
      "source": [
        "19. What are some real-world applications of ensemble techniques?\n",
        "- Ensemble techniques are widely used across industries because they provide higher accuracy, robustness, and reliability. Here are some real-world applications:\n",
        "\n",
        "- Finance (Fraud Detection):\n",
        "  - Ensemble methods like Random Forest and Gradient Boosting are used by banks and credit card companies to detect fraudulent transactions with high accuracy.\n",
        "\n",
        "- Healthcare (Disease Prediction):\n",
        "  - Ensemble models help in predicting diseases like cancer or diabetes by combining multiple diagnostic models, leading to more reliable outcomes.\n",
        "\n",
        "- E-commerce (Recommendation Systems):\n",
        "  - Online platforms like Amazon and Flipkart use ensembles to personalize product recommendations by combining outputs from different models (e.g., collaborative filtering, content-based filtering).\n",
        "\n",
        "- Insurance (Risk Assessment):\n",
        "  - Insurance companies use ensemble models to assess customer risk profiles for pricing policies and minimizing losses.\n",
        "\n",
        "- Marketing (Customer Churn Prediction):\n",
        "  - Businesses use ensemble methods to predict which customers are likely to stop using their service, allowing for targeted retention strategies.\n",
        "\n",
        "- Image and Speech Recognition:\n",
        "  - Technologies like facial recognition and speech-to-text often use ensembles (e.g., boosting with CNNs) to improve detection accuracy.\n",
        "\n",
        "- Autonomous Vehicles:\n",
        "  - Self-driving cars use ensemble models to fuse data from various sensors and improve decision-making in real time.\n",
        "\n",
        "- Text Classification and Sentiment Analysis:\n",
        "  - Used in NLP tasks such as spam detection, fake news classification, and sentiment analysis in social media monitoring.\n"
      ],
      "metadata": {
        "id": "e7gq_l6ufuuh"
      }
    },
    {
      "cell_type": "markdown",
      "source": [
        "20. What is the difference between Bagging and Boosting?\n",
        "- difference between Bagging and Boosting >>\n",
        "\n",
        "- Training Approach:\n",
        "  - Bagging: Trains multiple models independently and in parallel.\n",
        "  - Boosting: Trains models sequentially, where each model learns from the errors of the previous one.\n",
        "\n",
        "- Purpose:\n",
        "  - Bagging: Aims to reduce variance and prevent overfitting.\n",
        "  - Boosting: Aims to reduce both bias and variance for improved accuracy.\n",
        "\n",
        "- Data Sampling:\n",
        "  - Bagging: Uses bootstrap sampling (random sampling with replacement).\n",
        "  - Boosting: Uses the entire dataset, but reweights data points based on previous errors.\n",
        "\n",
        "- Model Dependency:\n",
        "  - Bagging: Models are independent of each other.\n",
        "  - Boosting: Each model is dependent on the previous one.\n",
        "\n",
        "- Combination Method:\n",
        "  - Bagging: Combines predictions using majority voting (classification) or averaging (regression).\n",
        "  - Boosting: Combines predictions using a weighted sum based on each model’s accuracy.\n",
        "\n",
        "- Risk of Overfitting:\n",
        "  - Bagging: Less prone to overfitting, especially with noisy data.\n",
        "  - Boosting: More prone to overfitting if not tuned properly.\n",
        "\n",
        "- Examples:\n",
        "  - Bagging: Random Forest\n",
        "  - Boosting: AdaBoost, Gradient Boosting, XGBoost\n",
        "\n",
        "- Model Simplicity:\n",
        "  - Bagging: Uses simple base learners (e.g., decision trees) and keeps them simple.\n",
        "  - Boosting: Gradually builds more complex models by focusing on difficult cases."
      ],
      "metadata": {
        "id": "Wr5T4fG9fu2y"
      }
    },
    {
      "cell_type": "markdown",
      "source": [
        "# Practical Questions"
      ],
      "metadata": {
        "id": "wu0Dzo4nfvCI"
      }
    },
    {
      "cell_type": "code",
      "source": [
        "#21. Train a Bagging Classifier using Decision Trees on a sample dataset and print model accuracy.\n",
        "from sklearn.ensemble import BaggingClassifier\n",
        "from sklearn.tree import DecisionTreeClassifier\n",
        "from sklearn.datasets import load_iris\n",
        "from sklearn.model_selection import train_test_split\n",
        "from sklearn.metrics import accuracy_score\n",
        "\n",
        "# Load sample dataset (Iris dataset)\n",
        "iris = load_iris()\n",
        "X = iris.data\n",
        "y = iris.target\n",
        "\n",
        "# Split dataset into training and testing sets\n",
        "X_train, X_test, y_train, y_test = train_test_split(X, y, test_size=0.2, random_state=42)\n",
        "\n",
        "# Initialize Decision Tree Classifier\n",
        "dt = DecisionTreeClassifier()\n",
        "\n",
        "# Initialize Bagging Classifier\n",
        "bagging = BaggingClassifier(estimator=dt, n_estimators=10)\n",
        "\n",
        "# Train the model\n",
        "bagging.fit(X_train, y_train)\n",
        "\n",
        "# Make predictions\n",
        "y_pred = bagging.predict(X_test)\n",
        "\n",
        "# Calculate and print model accuracy\n",
        "accuracy = accuracy_score(y_test, y_pred)\n",
        "print(\"Model Accuracy:\", accuracy)"
      ],
      "metadata": {
        "colab": {
          "base_uri": "https://localhost:8080/"
        },
        "id": "J8K9HZtzk8R0",
        "outputId": "b8f38912-9420-4798-8794-8a6064db468f"
      },
      "execution_count": null,
      "outputs": [
        {
          "output_type": "stream",
          "name": "stdout",
          "text": [
            "Model Accuracy: 1.0\n"
          ]
        }
      ]
    },
    {
      "cell_type": "code",
      "source": [
        "#22. Train a Bagging Regressor using Decision Trees and evaluate using Mean Squared Error (MSE).\n",
        "from sklearn.ensemble import BaggingRegressor\n",
        "from sklearn.tree import DecisionTreeRegressor\n",
        "from sklearn.datasets import make_regression\n",
        "from sklearn.model_selection import train_test_split\n",
        "from sklearn.metrics import mean_squared_error\n",
        "\n",
        "# Generate a sample regression dataset\n",
        "X, y = make_regression(n_samples=1000, n_features=10, random_state=42)\n",
        "\n",
        "# Split dataset into training and testing sets\n",
        "X_train, X_test, y_train, y_test = train_test_split(X, y, test_size=0.2, random_state=42)\n",
        "\n",
        "# Initialize Decision Tree Regressor\n",
        "dt = DecisionTreeRegressor()\n",
        "\n",
        "# Initialize Bagging Regressor\n",
        "bagging = BaggingRegressor(estimator=dt, n_estimators=10)\n",
        "\n",
        "# Train the model\n",
        "bagging.fit(X_train, y_train)\n",
        "\n",
        "# Make predictions\n",
        "y_pred = bagging.predict(X_test)\n",
        "\n",
        "# Calculate and print Mean Squared Error (MSE)\n",
        "mse = mean_squared_error(y_test, y_pred)\n",
        "print(\"Mean Squared Error (MSE):\", mse)"
      ],
      "metadata": {
        "colab": {
          "base_uri": "https://localhost:8080/"
        },
        "id": "1igDub6Qk8aV",
        "outputId": "e716ee04-024a-407a-dbf1-07913cdf8de6"
      },
      "execution_count": null,
      "outputs": [
        {
          "output_type": "stream",
          "name": "stdout",
          "text": [
            "Mean Squared Error (MSE): 3762.9122306542295\n"
          ]
        }
      ]
    },
    {
      "cell_type": "code",
      "source": [
        "#23. Train a Random Forest Classifier on the Breast Cancer dataset and print feature importance scores.\n",
        "from sklearn.ensemble import RandomForestClassifier\n",
        "from sklearn.datasets import load_breast_cancer\n",
        "from sklearn.model_selection import train_test_split\n",
        "\n",
        "# Load Breast Cancer dataset\n",
        "breast_cancer = load_breast_cancer()\n",
        "X = breast_cancer.data\n",
        "y = breast_cancer.target\n",
        "feature_names = breast_cancer.feature_names\n",
        "\n",
        "# Split dataset into training and testing sets\n",
        "X_train, X_test, y_train, y_test = train_test_split(X, y, test_size=0.2, random_state=42)\n",
        "\n",
        "# Initialize Random Forest Classifier\n",
        "rf = RandomForestClassifier(n_estimators=100, random_state=42)\n",
        "\n",
        "# Train the model\n",
        "rf.fit(X_train, y_train)\n",
        "\n",
        "# Print feature importance scores\n",
        "feature_importances = rf.feature_importances_\n",
        "for feature_name, importance in zip(feature_names, feature_importances):\n",
        "    print(f\"{feature_name}: {importance:.3f}\")"
      ],
      "metadata": {
        "colab": {
          "base_uri": "https://localhost:8080/"
        },
        "id": "hPBUw4Jak8dX",
        "outputId": "4aec8d8e-58d4-425e-b270-4c3e62b87a39"
      },
      "execution_count": null,
      "outputs": [
        {
          "output_type": "stream",
          "name": "stdout",
          "text": [
            "mean radius: 0.049\n",
            "mean texture: 0.014\n",
            "mean perimeter: 0.053\n",
            "mean area: 0.048\n",
            "mean smoothness: 0.007\n",
            "mean compactness: 0.014\n",
            "mean concavity: 0.068\n",
            "mean concave points: 0.106\n",
            "mean symmetry: 0.004\n",
            "mean fractal dimension: 0.004\n",
            "radius error: 0.020\n",
            "texture error: 0.005\n",
            "perimeter error: 0.011\n",
            "area error: 0.022\n",
            "smoothness error: 0.004\n",
            "compactness error: 0.005\n",
            "concavity error: 0.009\n",
            "concave points error: 0.004\n",
            "symmetry error: 0.004\n",
            "fractal dimension error: 0.005\n",
            "worst radius: 0.078\n",
            "worst texture: 0.022\n",
            "worst perimeter: 0.067\n",
            "worst area: 0.154\n",
            "worst smoothness: 0.011\n",
            "worst compactness: 0.020\n",
            "worst concavity: 0.032\n",
            "worst concave points: 0.145\n",
            "worst symmetry: 0.010\n",
            "worst fractal dimension: 0.005\n"
          ]
        }
      ]
    },
    {
      "cell_type": "code",
      "source": [
        "#24. Train a Random Forest Regressor and compare its performance with a single Decision Tree.\n",
        "from sklearn.ensemble import RandomForestRegressor\n",
        "from sklearn.tree import DecisionTreeRegressor\n",
        "from sklearn.datasets import make_regression\n",
        "from sklearn.model_selection import train_test_split\n",
        "from sklearn.metrics import mean_squared_error\n",
        "\n",
        "# Generate a sample regression dataset\n",
        "X, y = make_regression(n_samples=1000, n_features=10, random_state=42)\n",
        "\n",
        "# Split dataset into training and testing sets\n",
        "X_train, X_test, y_train, y_test = train_test_split(X, y, test_size=0.2, random_state=42)\n",
        "\n",
        "# Initialize Decision Tree Regressor\n",
        "dt = DecisionTreeRegressor(random_state=42)\n",
        "dt.fit(X_train, y_train)\n",
        "y_pred_dt = dt.predict(X_test)\n",
        "mse_dt = mean_squared_error(y_test, y_pred_dt)\n",
        "\n",
        "# Initialize Random Forest Regressor\n",
        "rf = RandomForestRegressor(n_estimators=100, random_state=42)\n",
        "rf.fit(X_train, y_train)\n",
        "y_pred_rf = rf.predict(X_test)\n",
        "mse_rf = mean_squared_error(y_test, y_pred_rf)\n",
        "\n",
        "# Compare performance\n",
        "print(f\"Decision Tree MSE: {mse_dt:.2f}\")\n",
        "print(f\"Random Forest MSE: {mse_rf:.2f}\")\n",
        "\n",
        "if mse_rf < mse_dt:\n",
        "    print(\"Random Forest Regressor performs better.\")\n",
        "else:\n",
        "    print(\"Decision Tree Regressor performs better.\")"
      ],
      "metadata": {
        "colab": {
          "base_uri": "https://localhost:8080/"
        },
        "id": "GDP2HMRfk8gw",
        "outputId": "d990693b-6ebd-4d58-e90e-de7cf72a661e"
      },
      "execution_count": null,
      "outputs": [
        {
          "output_type": "stream",
          "name": "stdout",
          "text": [
            "Decision Tree MSE: 6664.48\n",
            "Random Forest MSE: 3221.14\n",
            "Random Forest Regressor performs better.\n"
          ]
        }
      ]
    },
    {
      "cell_type": "code",
      "source": [
        "#25. Compute the Out-of-Bag (OOB) score for a Random Forest Classifier.\n",
        "from sklearn.ensemble import RandomForestClassifier\n",
        "from sklearn.datasets import load_breast_cancer\n",
        "from sklearn.model_selection import train_test_split\n",
        "\n",
        "# Load Breast Cancer dataset\n",
        "breast_cancer = load_breast_cancer()\n",
        "X = breast_cancer.data\n",
        "y = breast_cancer.target\n",
        "\n",
        "# Initialize Random Forest Classifier with OOB score calculation\n",
        "rf = RandomForestClassifier(n_estimators=100, oob_score=True, random_state=42)\n",
        "\n",
        "# Train the model\n",
        "rf.fit(X, y)\n",
        "\n",
        "# Print OOB score\n",
        "print(f\"Out-of-Bag (OOB) score: {rf.oob_score_:.3f}\")"
      ],
      "metadata": {
        "colab": {
          "base_uri": "https://localhost:8080/"
        },
        "id": "tbZ3yQiWk8j6",
        "outputId": "5a42f3b7-073c-4e55-bfb9-3a1ae6f05881"
      },
      "execution_count": null,
      "outputs": [
        {
          "output_type": "stream",
          "name": "stdout",
          "text": [
            "Out-of-Bag (OOB) score: 0.961\n"
          ]
        }
      ]
    },
    {
      "cell_type": "code",
      "source": [
        "#26. Train a Bagging Classifier using SVM as a base estimator and print accuracy.\n",
        "from sklearn.ensemble import BaggingClassifier\n",
        "from sklearn.svm import SVC\n",
        "from sklearn.datasets import load_breast_cancer\n",
        "from sklearn.model_selection import train_test_split\n",
        "from sklearn.metrics import accuracy_score\n",
        "\n",
        "# Load Breast Cancer dataset\n",
        "breast_cancer = load_breast_cancer()\n",
        "X = breast_cancer.data\n",
        "y = breast_cancer.target\n",
        "\n",
        "# Split dataset into training and testing sets\n",
        "X_train, X_test, y_train, y_test = train_test_split(X, y, test_size=0.2, random_state=42)\n",
        "\n",
        "# Initialize SVM classifier\n",
        "svm = SVC(probability=True, random_state=42)\n",
        "\n",
        "# Initialize Bagging Classifier with SVM as base estimator\n",
        "bagging = BaggingClassifier(estimator=svm, n_estimators=10, random_state=42)\n",
        "\n",
        "# Train the model\n",
        "bagging.fit(X_train, y_train)\n",
        "\n",
        "# Make predictions\n",
        "y_pred = bagging.predict(X_test)\n",
        "\n",
        "# Calculate and print accuracy\n",
        "accuracy = accuracy_score(y_test, y_pred)\n",
        "print(f\"Accuracy: {accuracy:.3f}\")"
      ],
      "metadata": {
        "colab": {
          "base_uri": "https://localhost:8080/"
        },
        "id": "NwPgO_wOk8mP",
        "outputId": "6f73fb1f-bdab-4ea0-ed09-ba71f3eda173"
      },
      "execution_count": null,
      "outputs": [
        {
          "output_type": "stream",
          "name": "stdout",
          "text": [
            "Accuracy: 0.947\n"
          ]
        }
      ]
    },
    {
      "cell_type": "code",
      "source": [
        "#27. Train a Random Forest Classifier with different numbers of trees and compare accuracy.\n",
        "from sklearn.ensemble import RandomForestClassifier\n",
        "from sklearn.datasets import load_breast_cancer\n",
        "from sklearn.model_selection import train_test_split\n",
        "from sklearn.metrics import accuracy_score\n",
        "\n",
        "# Load Breast Cancer dataset\n",
        "breast_cancer = load_breast_cancer()\n",
        "X = breast_cancer.data\n",
        "y = breast_cancer.target\n",
        "\n",
        "# Split dataset into training and testing sets\n",
        "X_train, X_test, y_train, y_test = train_test_split(X, y, test_size=0.2, random_state=42)\n",
        "\n",
        "# Define different numbers of trees\n",
        "n_estimators_list = [10, 50, 100, 200, 500]\n",
        "\n",
        "# Train and compare Random Forest Classifiers\n",
        "for n_estimators in n_estimators_list:\n",
        "    rf = RandomForestClassifier(n_estimators=n_estimators, random_state=42)\n",
        "    rf.fit(X_train, y_train)\n",
        "    y_pred = rf.predict(X_test)\n",
        "    accuracy = accuracy_score(y_test, y_pred)\n",
        "    print(f\"Number of trees: {n_estimators}, Accuracy: {accuracy:.3f}\")"
      ],
      "metadata": {
        "colab": {
          "base_uri": "https://localhost:8080/"
        },
        "id": "FmfuJ94nk8pB",
        "outputId": "c79926a1-0008-4cdc-e813-be33dd1a8248"
      },
      "execution_count": null,
      "outputs": [
        {
          "output_type": "stream",
          "name": "stdout",
          "text": [
            "Number of trees: 10, Accuracy: 0.956\n",
            "Number of trees: 50, Accuracy: 0.965\n",
            "Number of trees: 100, Accuracy: 0.965\n",
            "Number of trees: 200, Accuracy: 0.965\n",
            "Number of trees: 500, Accuracy: 0.965\n"
          ]
        }
      ]
    },
    {
      "cell_type": "code",
      "source": [
        "#28. Train a Bagging Classifier using Logistic Regression as a base estimator and print AUC score.\n",
        "import numpy as np\n",
        "from sklearn.datasets import load_breast_cancer\n",
        "from sklearn.model_selection import train_test_split\n",
        "from sklearn.preprocessing import StandardScaler\n",
        "from sklearn.linear_model import LogisticRegression\n",
        "from sklearn.ensemble import BaggingClassifier\n",
        "from sklearn.metrics import roc_auc_score\n",
        "\n",
        "# Load breast cancer dataset\n",
        "breast_cancer = load_breast_cancer()\n",
        "X = breast_cancer.data\n",
        "y = breast_cancer.target\n",
        "\n",
        "# Split dataset into training and testing sets\n",
        "X_train, X_test, y_train, y_test = train_test_split(X, y, test_size=0.2, random_state=42)\n",
        "\n",
        "# Initialize Logistic Regression with balanced class weight and faster optimizer\n",
        "log_reg = LogisticRegression(class_weight='balanced', solver='liblinear', random_state=42)\n",
        "\n",
        "# Initialize Bagging Classifier with Logistic Regression as base estimator\n",
        "bagging = BaggingClassifier(estimator=log_reg, n_estimators=10, random_state=42)\n",
        "\n",
        "# Train the model\n",
        "bagging.fit(X_train, y_train)\n",
        "\n",
        "# Predict probabilities\n",
        "y_pred_proba = bagging.predict_proba(X_test)[:, 1]\n",
        "\n",
        "# Calculate AUC score\n",
        "auc_score = roc_auc_score(y_test, y_pred_proba)\n",
        "\n",
        "# Print AUC score\n",
        "print(f\"AUC Score: {auc_score:.3f}\")"
      ],
      "metadata": {
        "colab": {
          "base_uri": "https://localhost:8080/"
        },
        "id": "7dMekzq3k8r-",
        "outputId": "4423bcfd-817c-4317-c683-7a20154bdcda"
      },
      "execution_count": null,
      "outputs": [
        {
          "output_type": "stream",
          "name": "stdout",
          "text": [
            "AUC Score: 0.997\n"
          ]
        }
      ]
    },
    {
      "cell_type": "code",
      "source": [
        "#29. Train a Random Forest Regressor and analyze feature importance scores.\n",
        "from sklearn.ensemble import RandomForestRegressor\n",
        "from sklearn.datasets import make_regression\n",
        "from sklearn.model_selection import train_test_split\n",
        "import pandas as pd\n",
        "import matplotlib.pyplot as plt\n",
        "\n",
        "# Generate a sample regression dataset\n",
        "X, y = make_regression(n_samples=1000, n_features=10, random_state=42)\n",
        "\n",
        "# Create feature names\n",
        "feature_names = [f\"Feature {i+1}\" for i in range(X.shape[1])]\n",
        "\n",
        "# Split dataset into training and testing sets\n",
        "X_train, X_test, y_train, y_test = train_test_split(X, y, test_size=0.2, random_state=42)\n",
        "\n",
        "# Initialize Random Forest Regressor\n",
        "rf = RandomForestRegressor(n_estimators=100, random_state=42)\n",
        "\n",
        "# Train the model\n",
        "rf.fit(X_train, y_train)\n",
        "\n",
        "# Get feature importance scores\n",
        "feature_importances = rf.feature_importances_\n",
        "\n",
        "# Create a DataFrame to store feature importance scores\n",
        "feature_importance_df = pd.DataFrame({\n",
        "    \"Feature\": feature_names,\n",
        "    \"Importance\": feature_importances\n",
        "})\n",
        "\n",
        "# Sort the DataFrame by importance in descending order\n",
        "feature_importance_df = feature_importance_df.sort_values(by=\"Importance\", ascending=False)\n",
        "\n",
        "# Print feature importance scores\n",
        "print(feature_importance_df)\n",
        "\n",
        "# Plot feature importance scores\n",
        "plt.figure(figsize=(10, 6))\n",
        "plt.bar(feature_importance_df[\"Feature\"], feature_importance_df[\"Importance\"])\n",
        "plt.xlabel(\"Feature\")\n",
        "plt.ylabel(\"Importance\")\n",
        "plt.title(\"Feature Importance Scores\")\n",
        "plt.xticks(rotation=90)\n",
        "plt.tight_layout()\n",
        "plt.show()"
      ],
      "metadata": {
        "colab": {
          "base_uri": "https://localhost:8080/",
          "height": 798
        },
        "id": "5XCLi24Pk8ut",
        "outputId": "3ab7f5bf-b838-44b5-bd0f-e9e75c8b1f5f"
      },
      "execution_count": null,
      "outputs": [
        {
          "output_type": "stream",
          "name": "stdout",
          "text": [
            "      Feature  Importance\n",
            "9  Feature 10    0.350388\n",
            "1   Feature 2    0.290549\n",
            "5   Feature 6    0.201465\n",
            "2   Feature 3    0.035226\n",
            "6   Feature 7    0.034869\n",
            "0   Feature 1    0.032187\n",
            "8   Feature 9    0.016165\n",
            "3   Feature 4    0.014689\n",
            "7   Feature 8    0.013005\n",
            "4   Feature 5    0.011457\n"
          ]
        },
        {
          "output_type": "display_data",
          "data": {
            "text/plain": [
              "<Figure size 1000x600 with 1 Axes>"
            ],
            "image/png": "[encoded data removed]"
          },
          "metadata": {}
        }
      ]
    },
    {
      "cell_type": "code",
      "source": [
        "#30. Train an ensemble model using both Bagging and Random Forest and compare accuracy.\n",
        "from sklearn.ensemble import RandomForestClassifier, BaggingClassifier\n",
        "from sklearn.tree import DecisionTreeClassifier\n",
        "from sklearn.datasets import load_breast_cancer\n",
        "from sklearn.model_selection import train_test_split\n",
        "from sklearn.metrics import accuracy_score\n",
        "\n",
        "# Load Breast Cancer dataset\n",
        "breast_cancer = load_breast_cancer()\n",
        "X = breast_cancer.data\n",
        "y = breast_cancer.target\n",
        "\n",
        "# Split dataset into training and testing sets\n",
        "X_train, X_test, y_train, y_test = train_test_split(X, y, test_size=0.2, random_state=42)\n",
        "\n",
        "# Initialize Decision Tree Classifier\n",
        "dt = DecisionTreeClassifier(random_state=42)\n",
        "\n",
        "# Initialize Bagging Classifier\n",
        "bagging = BaggingClassifier(estimator=dt, n_estimators=10, random_state=42)\n",
        "\n",
        "# Initialize Random Forest Classifier\n",
        "rf = RandomForestClassifier(n_estimators=10, random_state=42)\n",
        "\n",
        "# Train the models\n",
        "bagging.fit(X_train, y_train)\n",
        "rf.fit(X_train, y_train)\n",
        "\n",
        "# Make predictions\n",
        "y_pred_bagging = bagging.predict(X_test)\n",
        "y_pred_rf = rf.predict(X_test)\n",
        "\n",
        "# Calculate accuracy\n",
        "accuracy_bagging = accuracy_score(y_test, y_pred_bagging)\n",
        "accuracy_rf = accuracy_score(y_test, y_pred_rf)\n",
        "\n",
        "# Compare accuracy\n",
        "print(f\"Bagging Accuracy: {accuracy_bagging:.3f}\")\n",
        "print(f\"Random Forest Accuracy: {accuracy_rf:.3f}\")\n",
        "\n",
        "if accuracy_bagging > accuracy_rf:\n",
        "    print(\"Bagging performs better.\")\n",
        "elif accuracy_rf > accuracy_bagging:\n",
        "    print(\"Random Forest performs better.\")\n",
        "else:\n",
        "    print(\"Both models perform equally well.\")"
      ],
      "metadata": {
        "colab": {
          "base_uri": "https://localhost:8080/"
        },
        "id": "YKEaMO4Vk8xz",
        "outputId": "6ca0a780-80fd-48e8-bf09-b7dee3bf4649"
      },
      "execution_count": null,
      "outputs": [
        {
          "output_type": "stream",
          "name": "stdout",
          "text": [
            "Bagging Accuracy: 0.956\n",
            "Random Forest Accuracy: 0.956\n",
            "Both models perform equally well.\n"
          ]
        }
      ]
    },
    {
      "cell_type": "code",
      "source": [
        "#31. Train a Random Forest Classifier and tune hyperparameters using GridSearchCV.\n",
        "from sklearn.ensemble import RandomForestClassifier\n",
        "from sklearn.model_selection import GridSearchCV, train_test_split\n",
        "from sklearn.datasets import load_breast_cancer\n",
        "from sklearn.metrics import accuracy_score, classification_report\n",
        "\n",
        "# Load Breast Cancer dataset\n",
        "breast_cancer = load_breast_cancer()\n",
        "X = breast_cancer.data\n",
        "y = breast_cancer.target\n",
        "\n",
        "# Split dataset into training and testing sets\n",
        "X_train, X_test, y_train, y_test = train_test_split(X, y, test_size=0.2, random_state=42)\n",
        "\n",
        "# Define hyperparameter grid\n",
        "param_grid = {\n",
        "    \"n_estimators\": [10, 50, 100, 200],\n",
        "    \"max_depth\": [None, 5, 10],\n",
        "    \"min_samples_split\": [2, 5, 10],\n",
        "    \"min_samples_leaf\": [1, 5, 10]\n",
        "}\n",
        "\n",
        "# Initialize Random Forest Classifier\n",
        "rf = RandomForestClassifier(random_state=42)\n",
        "\n",
        "# Initialize GridSearchCV\n",
        "grid_search = GridSearchCV(estimator=rf, param_grid=param_grid, cv=5)\n",
        "\n",
        "# Perform grid search\n",
        "grid_search.fit(X_train, y_train)\n",
        "\n",
        "# Print best hyperparameters\n",
        "print(f\"Best Hyperparameters: {grid_search.best_params_}\")\n",
        "\n",
        "# Print best cross-validation score\n",
        "print(f\"Best Cross-Validation Score: {grid_search.best_score_:.3f}\")\n",
        "\n",
        "# Train model with best hyperparameters and evaluate on test set\n",
        "best_model = grid_search.best_estimator_\n",
        "y_pred = best_model.predict(X_test)\n",
        "\n",
        "# Calculate accuracy\n",
        "accuracy = accuracy_score(y_test, y_pred)\n",
        "print(f\"Test Accuracy: {accuracy:.3f}\")\n",
        "\n",
        "# Print classification report\n",
        "print(\"Classification Report:\")\n",
        "print(classification_report(y_test, y_pred))"
      ],
      "metadata": {
        "id": "bOkNC5eVk81Z",
        "colab": {
          "base_uri": "https://localhost:8080/"
        },
        "outputId": "da5b5f15-9e55-4d9f-e363-ca57d3b76eb5"
      },
      "execution_count": 30,
      "outputs": [
        {
          "output_type": "stream",
          "name": "stdout",
          "text": [
            "Best Hyperparameters: {'max_depth': None, 'min_samples_leaf': 1, 'min_samples_split': 2, 'n_estimators': 200}\n",
            "Best Cross-Validation Score: 0.963\n",
            "Test Accuracy: 0.965\n",
            "Classification Report:\n",
            "              precision    recall  f1-score   support\n",
            "\n",
            "           0       0.98      0.93      0.95        43\n",
            "           1       0.96      0.99      0.97        71\n",
            "\n",
            "    accuracy                           0.96       114\n",
            "   macro avg       0.97      0.96      0.96       114\n",
            "weighted avg       0.97      0.96      0.96       114\n",
            "\n"
          ]
        }
      ]
    },
    {
      "cell_type": "code",
      "source": [
        "#32. Train a Bagging Regressor with different numbers of base estimators and compare performance.\n",
        "from sklearn.ensemble import BaggingRegressor\n",
        "from sklearn.tree import DecisionTreeRegressor\n",
        "from sklearn.datasets import make_regression\n",
        "from sklearn.model_selection import train_test_split\n",
        "from sklearn.metrics import mean_squared_error\n",
        "import matplotlib.pyplot as plt\n",
        "\n",
        "# Generate a sample regression dataset\n",
        "X, y = make_regression(n_samples=1000, n_features=10, random_state=42)\n",
        "\n",
        "# Split dataset into training and testing sets\n",
        "X_train, X_test, y_train, y_test = train_test_split(X, y, test_size=0.2, random_state=42)\n",
        "\n",
        "# Define different numbers of base estimators\n",
        "n_estimators_list = [1, 5, 10, 20, 50, 100]\n",
        "\n",
        "# Initialize lists to store MSE values\n",
        "mse_train = []\n",
        "mse_test = []\n",
        "\n",
        "# Train Bagging Regressor with different numbers of base estimators\n",
        "for n_estimators in n_estimators_list:\n",
        "    bagging = BaggingRegressor(estimator=DecisionTreeRegressor(), n_estimators=n_estimators, random_state=42)\n",
        "    bagging.fit(X_train, y_train)\n",
        "\n",
        "    # Predict on training and testing sets\n",
        "    y_pred_train = bagging.predict(X_train)\n",
        "    y_pred_test = bagging.predict(X_test)\n",
        "\n",
        "    # Calculate MSE\n",
        "    mse_train.append(mean_squared_error(y_train, y_pred_train))\n",
        "    mse_test.append(mean_squared_error(y_test, y_pred_test))\n",
        "\n",
        "# Plot MSE values\n",
        "plt.figure(figsize=(10, 6))\n",
        "plt.plot(n_estimators_list, mse_train, label=\"Training MSE\")\n",
        "plt.plot(n_estimators_list, mse_test, label=\"Testing MSE\")\n",
        "plt.xlabel(\"Number of Base Estimators\")\n",
        "plt.ylabel(\"Mean Squared Error (MSE)\")\n",
        "plt.title(\"Bagging Regressor Performance\")\n",
        "plt.legend()\n",
        "plt.show()\n",
        "\n",
        "# Print best number of base estimators based on testing MSE\n",
        "best_n_estimators = n_estimators_list[mse_test.index(min(mse_test))]\n",
        "print(f\"Best Number of Base Estimators: {best_n_estimators}\")"
      ],
      "metadata": {
        "id": "ee0N3JGUk84u",
        "colab": {
          "base_uri": "https://localhost:8080/",
          "height": 581
        },
        "outputId": "36a6e033-0580-46cf-c016-470c9a1c1a7c"
      },
      "execution_count": 14,
      "outputs": [
        {
          "output_type": "display_data",
          "data": {
            "text/plain": [
              "<Figure size 1000x600 with 1 Axes>"
            ],
            "image/png": "[encoded data removed]"
          },
          "metadata": {}
        },
        {
          "output_type": "stream",
          "name": "stdout",
          "text": [
            "Best Number of Base Estimators: 100\n"
          ]
        }
      ]
    },
    {
      "cell_type": "code",
      "source": [
        "#33. Train a Random Forest Classifier and analyze misclassified samples.\n",
        "from sklearn.ensemble import RandomForestClassifier\n",
        "from sklearn.datasets import load_breast_cancer\n",
        "from sklearn.model_selection import train_test_split\n",
        "import pandas as pd\n",
        "\n",
        "# Load Breast Cancer dataset\n",
        "breast_cancer = load_breast_cancer()\n",
        "X = breast_cancer.data\n",
        "y = breast_cancer.target\n",
        "feature_names = breast_cancer.feature_names\n",
        "\n",
        "# Split dataset into training and testing sets\n",
        "X_train, X_test, y_train, y_test = train_test_split(X, y, test_size=0.2, random_state=42)\n",
        "\n",
        "# Initialize Random Forest Classifier\n",
        "rf = RandomForestClassifier(n_estimators=100, random_state=42)\n",
        "\n",
        "# Train the model\n",
        "rf.fit(X_train, y_train)\n",
        "\n",
        "# Predict on testing set\n",
        "y_pred = rf.predict(X_test)\n",
        "\n",
        "# Identify misclassified samples\n",
        "misclassified_samples = X_test[y_test != y_pred]\n",
        "\n",
        "# Create a DataFrame to store misclassified samples\n",
        "misclassified_df = pd.DataFrame(misclassified_samples, columns=feature_names)\n",
        "\n",
        "# Print misclassified samples\n",
        "print(\"Misclassified Samples:\")\n",
        "print(misclassified_df)\n",
        "\n",
        "# Analyze misclassified samples\n",
        "print(\"\\nSummary Statistics of Misclassified Samples:\")\n",
        "print(misclassified_df.describe())"
      ],
      "metadata": {
        "id": "juSBntKZk87N",
        "colab": {
          "base_uri": "https://localhost:8080/"
        },
        "outputId": "4706b498-cea9-4088-af67-4458d914b977"
      },
      "execution_count": 15,
      "outputs": [
        {
          "output_type": "stream",
          "name": "stdout",
          "text": [
            "Misclassified Samples:\n",
            "   mean radius  mean texture  mean perimeter  mean area  mean smoothness  \\\n",
            "0        13.34         15.86           86.49      520.0          0.10780   \n",
            "1        13.80         15.79           90.43      584.1          0.10070   \n",
            "2        13.96         17.05           91.43      602.4          0.10960   \n",
            "3        14.48         21.46           94.25      648.2          0.09444   \n",
            "\n",
            "   mean compactness  mean concavity  mean concave points  mean symmetry  \\\n",
            "0           0.15350         0.11690              0.06987         0.1942   \n",
            "1           0.12800         0.07789              0.05069         0.1662   \n",
            "2           0.12790         0.09789              0.05246         0.1908   \n",
            "3           0.09947         0.12040              0.04938         0.2075   \n",
            "\n",
            "   mean fractal dimension  ...  worst radius  worst texture  worst perimeter  \\\n",
            "0                 0.06902  ...         15.53          23.19            96.66   \n",
            "1                 0.06566  ...         16.57          20.86           110.30   \n",
            "2                 0.06130  ...         16.39          22.07           108.10   \n",
            "3                 0.05636  ...         16.21          29.25           108.40   \n",
            "\n",
            "   worst area  worst smoothness  worst compactness  worst concavity  \\\n",
            "0       614.9            0.1536             0.4791           0.4858   \n",
            "1       812.4            0.1411             0.3542           0.2779   \n",
            "2       826.0            0.1512             0.3262           0.3209   \n",
            "3       808.9            0.1306             0.1976           0.3349   \n",
            "\n",
            "   worst concave points  worst symmetry  worst fractal dimension  \n",
            "0                0.1708          0.3527                  0.10160  \n",
            "1                0.1383          0.2589                  0.10300  \n",
            "2                0.1374          0.3068                  0.07957  \n",
            "3                0.1225          0.3020                  0.06846  \n",
            "\n",
            "[4 rows x 30 columns]\n",
            "\n",
            "Summary Statistics of Misclassified Samples:\n",
            "       mean radius  mean texture  mean perimeter   mean area  mean smoothness  \\\n",
            "count     4.000000      4.000000        4.000000    4.000000         4.000000   \n",
            "mean     13.895000     17.540000       90.650000  588.675000         0.103135   \n",
            "std       0.470284      2.676528        3.210524   53.131245         0.006954   \n",
            "min      13.340000     15.790000       86.490000  520.000000         0.094440   \n",
            "25%      13.685000     15.842500       89.445000  568.075000         0.099135   \n",
            "50%      13.880000     16.455000       90.930000  593.250000         0.104250   \n",
            "75%      14.090000     18.152500       92.135000  613.850000         0.108250   \n",
            "max      14.480000     21.460000       94.250000  648.200000         0.109600   \n",
            "\n",
            "       mean compactness  mean concavity  mean concave points  mean symmetry  \\\n",
            "count          4.000000        4.000000             4.000000       4.000000   \n",
            "mean           0.127217        0.103270             0.055600       0.189675   \n",
            "std            0.022074        0.019598             0.009597       0.017229   \n",
            "min            0.099470        0.077890             0.049380       0.166200   \n",
            "25%            0.120793        0.092890             0.050362       0.184650   \n",
            "50%            0.127950        0.107395             0.051575       0.192500   \n",
            "75%            0.134375        0.117775             0.056813       0.197525   \n",
            "max            0.153500        0.120400             0.069870       0.207500   \n",
            "\n",
            "       mean fractal dimension  ...  worst radius  worst texture  \\\n",
            "count                4.000000  ...      4.000000       4.000000   \n",
            "mean                 0.063085  ...     16.175000      23.842500   \n",
            "std                  0.005485  ...      0.454423       3.728444   \n",
            "min                  0.056360  ...     15.530000      20.860000   \n",
            "25%                  0.060065  ...     16.040000      21.767500   \n",
            "50%                  0.063480  ...     16.300000      22.630000   \n",
            "75%                  0.066500  ...     16.435000      24.705000   \n",
            "max                  0.069020  ...     16.570000      29.250000   \n",
            "\n",
            "       worst perimeter  worst area  worst smoothness  worst compactness  \\\n",
            "count         4.000000    4.000000          4.000000           4.000000   \n",
            "mean        105.865000  765.550000          0.144125           0.339275   \n",
            "std           6.213499  100.703807          0.010518           0.115494   \n",
            "min          96.660000  614.900000          0.130600           0.197600   \n",
            "25%         105.240000  760.400000          0.138475           0.294050   \n",
            "50%         108.250000  810.650000          0.146150           0.340200   \n",
            "75%         108.875000  815.800000          0.151800           0.385425   \n",
            "max         110.300000  826.000000          0.153600           0.479100   \n",
            "\n",
            "       worst concavity  worst concave points  worst symmetry  \\\n",
            "count         4.000000              4.000000        4.000000   \n",
            "mean          0.354875              0.142250        0.305100   \n",
            "std           0.090590              0.020366        0.038352   \n",
            "min           0.277900              0.122500        0.258900   \n",
            "25%           0.310150              0.133675        0.291225   \n",
            "50%           0.327900              0.137850        0.304400   \n",
            "75%           0.372625              0.146425        0.318275   \n",
            "max           0.485800              0.170800        0.352700   \n",
            "\n",
            "       worst fractal dimension  \n",
            "count                 4.000000  \n",
            "mean                  0.088157  \n",
            "std                   0.016958  \n",
            "min                   0.068460  \n",
            "25%                   0.076792  \n",
            "50%                   0.090585  \n",
            "75%                   0.101950  \n",
            "max                   0.103000  \n",
            "\n",
            "[8 rows x 30 columns]\n"
          ]
        }
      ]
    },
    {
      "cell_type": "code",
      "source": [
        "#34. Train a Bagging Classifier and compare its performance with a single Decision Tree Classifier.\n",
        "from sklearn.ensemble import BaggingClassifier\n",
        "from sklearn.tree import DecisionTreeClassifier\n",
        "from sklearn.datasets import load_breast_cancer\n",
        "from sklearn.model_selection import train_test_split\n",
        "from sklearn.metrics import accuracy_score, classification_report\n",
        "\n",
        "# Load Breast Cancer dataset\n",
        "breast_cancer = load_breast_cancer()\n",
        "X = breast_cancer.data\n",
        "y = breast_cancer.target\n",
        "\n",
        "# Split dataset into training and testing sets\n",
        "X_train, X_test, y_train, y_test = train_test_split(X, y, test_size=0.2, random_state=42)\n",
        "\n",
        "# Initialize Decision Tree Classifier\n",
        "dt = DecisionTreeClassifier(random_state=42)\n",
        "\n",
        "# Initialize Bagging Classifier\n",
        "bagging = BaggingClassifier(estimator=DecisionTreeClassifier(random_state=42), n_estimators=10, random_state=42)\n",
        "\n",
        "# Train the models\n",
        "dt.fit(X_train, y_train)\n",
        "bagging.fit(X_train, y_train)\n",
        "\n",
        "# Predict on testing set\n",
        "y_pred_dt = dt.predict(X_test)\n",
        "y_pred_bagging = bagging.predict(X_test)\n",
        "\n",
        "# Calculate accuracy\n",
        "accuracy_dt = accuracy_score(y_test, y_pred_dt)\n",
        "accuracy_bagging = accuracy_score(y_test, y_pred_bagging)\n",
        "\n",
        "# Print accuracy\n",
        "print(f\"Decision Tree Accuracy: {accuracy_dt:.3f}\")\n",
        "print(f\"Bagging Accuracy: {accuracy_bagging:.3f}\")\n",
        "\n",
        "# Print classification reports\n",
        "print(\"\\nDecision Tree Classification Report:\")\n",
        "print(classification_report(y_test, y_pred_dt))\n",
        "print(\"\\nBagging Classification Report:\")\n",
        "print(classification_report(y_test, y_pred_bagging))\n",
        "\n",
        "# Compare performance\n",
        "if accuracy_bagging > accuracy_dt:\n",
        "    print(\"\\nBagging performs better.\")\n",
        "elif accuracy_dt > accuracy_bagging:\n",
        "    print(\"\\nDecision Tree performs better.\")\n",
        "else:\n",
        "    print(\"\\nBoth models perform equally well.\")"
      ],
      "metadata": {
        "id": "dNzBWeoek89d",
        "colab": {
          "base_uri": "https://localhost:8080/"
        },
        "outputId": "458377f7-24f9-4d7d-f8b3-1db75eb1ac25"
      },
      "execution_count": 16,
      "outputs": [
        {
          "output_type": "stream",
          "name": "stdout",
          "text": [
            "Decision Tree Accuracy: 0.947\n",
            "Bagging Accuracy: 0.956\n",
            "\n",
            "Decision Tree Classification Report:\n",
            "              precision    recall  f1-score   support\n",
            "\n",
            "           0       0.93      0.93      0.93        43\n",
            "           1       0.96      0.96      0.96        71\n",
            "\n",
            "    accuracy                           0.95       114\n",
            "   macro avg       0.94      0.94      0.94       114\n",
            "weighted avg       0.95      0.95      0.95       114\n",
            "\n",
            "\n",
            "Bagging Classification Report:\n",
            "              precision    recall  f1-score   support\n",
            "\n",
            "           0       0.95      0.93      0.94        43\n",
            "           1       0.96      0.97      0.97        71\n",
            "\n",
            "    accuracy                           0.96       114\n",
            "   macro avg       0.96      0.95      0.95       114\n",
            "weighted avg       0.96      0.96      0.96       114\n",
            "\n",
            "\n",
            "Bagging performs better.\n"
          ]
        }
      ]
    },
    {
      "cell_type": "code",
      "source": [
        "#35. Train a Random Forest Classifier and visualize the confusion matrix.\n",
        "from sklearn.ensemble import RandomForestClassifier\n",
        "from sklearn.datasets import load_breast_cancer\n",
        "from sklearn.model_selection import train_test_split\n",
        "from sklearn.metrics import confusion_matrix, accuracy_score, classification_report\n",
        "import matplotlib.pyplot as plt\n",
        "import seaborn as sns\n",
        "\n",
        "# Load Breast Cancer dataset\n",
        "breast_cancer = load_breast_cancer()\n",
        "X = breast_cancer.data\n",
        "y = breast_cancer.target\n",
        "\n",
        "# Split dataset into training and testing sets\n",
        "X_train, X_test, y_train, y_test = train_test_split(X, y, test_size=0.2, random_state=42)\n",
        "\n",
        "# Initialize Random Forest Classifier\n",
        "rf = RandomForestClassifier(n_estimators=100, random_state=42)\n",
        "\n",
        "# Train the model\n",
        "rf.fit(X_train, y_train)\n",
        "\n",
        "# Predict on testing set\n",
        "y_pred = rf.predict(X_test)\n",
        "\n",
        "# Calculate accuracy\n",
        "accuracy = accuracy_score(y_test, y_pred)\n",
        "print(f\"Accuracy: {accuracy:.3f}\")\n",
        "\n",
        "# Print classification report\n",
        "print(\"Classification Report:\")\n",
        "print(classification_report(y_test, y_pred))\n",
        "\n",
        "# Create confusion matrix\n",
        "cm = confusion_matrix(y_test, y_pred)\n",
        "\n",
        "# Visualize confusion matrix\n",
        "plt.figure(figsize=(8, 6))\n",
        "sns.heatmap(cm, annot=True, cmap=\"Blues\", fmt=\"d\")\n",
        "plt.xlabel(\"Predicted Labels\")\n",
        "plt.ylabel(\"True Labels\")\n",
        "plt.title(\"Confusion Matrix\")\n",
        "plt.show()"
      ],
      "metadata": {
        "id": "0zbC4igRk8_u",
        "colab": {
          "base_uri": "https://localhost:8080/",
          "height": 755
        },
        "outputId": "7b81b616-112e-4804-e03c-46b9012c391f"
      },
      "execution_count": 17,
      "outputs": [
        {
          "output_type": "stream",
          "name": "stdout",
          "text": [
            "Accuracy: 0.965\n",
            "Classification Report:\n",
            "              precision    recall  f1-score   support\n",
            "\n",
            "           0       0.98      0.93      0.95        43\n",
            "           1       0.96      0.99      0.97        71\n",
            "\n",
            "    accuracy                           0.96       114\n",
            "   macro avg       0.97      0.96      0.96       114\n",
            "weighted avg       0.97      0.96      0.96       114\n",
            "\n"
          ]
        },
        {
          "output_type": "display_data",
          "data": {
            "text/plain": [
              "<Figure size 800x600 with 2 Axes>"
            ],
            "image/png": "[encoded data removed]"
          },
          "metadata": {}
        }
      ]
    },
    {
      "cell_type": "code",
      "source": [
        "#36. Train a Stacking Classifier using Decision Trees, SVM, and Logistic Regression, and compare accuracy.\n",
        "from sklearn.ensemble import StackingClassifier\n",
        "from sklearn.tree import DecisionTreeClassifier\n",
        "from sklearn.svm import SVC\n",
        "from sklearn.linear_model import LogisticRegression\n",
        "from sklearn.datasets import load_breast_cancer\n",
        "from sklearn.model_selection import train_test_split\n",
        "from sklearn.metrics import accuracy_score\n",
        "\n",
        "# Load Breast Cancer dataset\n",
        "breast_cancer = load_breast_cancer()\n",
        "X = breast_cancer.data\n",
        "y = breast_cancer.target\n",
        "\n",
        "# Split dataset into training and testing sets\n",
        "X_train, X_test, y_train, y_test = train_test_split(X, y, test_size=0.2, random_state=42)\n",
        "\n",
        "# Define base models\n",
        "base_models = [\n",
        "    (\"Decision Tree\", DecisionTreeClassifier(random_state=42)),\n",
        "    (\"SVM\", SVC(probability=True, random_state=42)),\n",
        "    (\"Logistic Regression\", LogisticRegression(max_iter=1000, random_state=42))\n",
        "]\n",
        "\n",
        "# Define meta model\n",
        "meta_model = LogisticRegression(max_iter=1000, random_state=42)\n",
        "\n",
        "# Initialize Stacking Classifier\n",
        "stacking = StackingClassifier(estimators=base_models, final_estimator=meta_model)\n",
        "\n",
        "# Train the models\n",
        "for name, model in base_models:\n",
        "    model.fit(X_train, y_train)\n",
        "stacking.fit(X_train, y_train)\n",
        "\n",
        "# Predict on testing set\n",
        "y_pred_base = {}\n",
        "for name, model in base_models:\n",
        "    y_pred_base[name] = model.predict(X_test)\n",
        "y_pred_stacking = stacking.predict(X_test)\n",
        "\n",
        "# Calculate accuracy\n",
        "accuracy_base = {}\n",
        "for name in y_pred_base:\n",
        "    accuracy_base[name] = accuracy_score(y_test, y_pred_base[name])\n",
        "accuracy_stacking = accuracy_score(y_test, y_pred_stacking)\n",
        "\n",
        "# Print accuracy\n",
        "for name, accuracy in accuracy_base.items():\n",
        "    print(f\"{name} Accuracy: {accuracy:.3f}\")\n",
        "print(f\"Stacking Accuracy: {accuracy_stacking:.3f}\")\n",
        "\n",
        "# Compare accuracy\n",
        "best_accuracy = max(list(accuracy_base.values()) + [accuracy_stacking])\n",
        "if best_accuracy == accuracy_stacking:\n",
        "    print(\"\\nStacking performs best.\")\n",
        "else:\n",
        "    best_model = [name for name, accuracy in accuracy_base.items() if accuracy == best_accuracy][0]\n",
        "    print(f\"\\n{best_model} performs best.\")"
      ],
      "metadata": {
        "id": "Gcr29FxXk9Ci",
        "colab": {
          "base_uri": "https://localhost:8080/"
        },
        "outputId": "7f082e8e-54ae-4cef-bf49-f130ae736a01"
      },
      "execution_count": 19,
      "outputs": [
        {
          "output_type": "stream",
          "name": "stderr",
          "text": [
            "/usr/local/lib/python3.11/dist-packages/sklearn/linear_model/_logistic.py:465: ConvergenceWarning: lbfgs failed to converge (status=1):\n",
            "STOP: TOTAL NO. OF ITERATIONS REACHED LIMIT.\n",
            "\n",
            "Increase the number of iterations (max_iter) or scale the data as shown in:\n",
            "    https://scikit-learn.org/stable/modules/preprocessing.html\n",
            "Please also refer to the documentation for alternative solver options:\n",
            "    https://scikit-learn.org/stable/modules/linear_model.html#logistic-regression\n",
            "  n_iter_i = _check_optimize_result(\n",
            "/usr/local/lib/python3.11/dist-packages/sklearn/linear_model/_logistic.py:465: ConvergenceWarning: lbfgs failed to converge (status=1):\n",
            "STOP: TOTAL NO. OF ITERATIONS REACHED LIMIT.\n",
            "\n",
            "Increase the number of iterations (max_iter) or scale the data as shown in:\n",
            "    https://scikit-learn.org/stable/modules/preprocessing.html\n",
            "Please also refer to the documentation for alternative solver options:\n",
            "    https://scikit-learn.org/stable/modules/linear_model.html#logistic-regression\n",
            "  n_iter_i = _check_optimize_result(\n",
            "/usr/local/lib/python3.11/dist-packages/sklearn/linear_model/_logistic.py:465: ConvergenceWarning: lbfgs failed to converge (status=1):\n",
            "STOP: TOTAL NO. OF ITERATIONS REACHED LIMIT.\n",
            "\n",
            "Increase the number of iterations (max_iter) or scale the data as shown in:\n",
            "    https://scikit-learn.org/stable/modules/preprocessing.html\n",
            "Please also refer to the documentation for alternative solver options:\n",
            "    https://scikit-learn.org/stable/modules/linear_model.html#logistic-regression\n",
            "  n_iter_i = _check_optimize_result(\n",
            "/usr/local/lib/python3.11/dist-packages/sklearn/linear_model/_logistic.py:465: ConvergenceWarning: lbfgs failed to converge (status=1):\n",
            "STOP: TOTAL NO. OF ITERATIONS REACHED LIMIT.\n",
            "\n",
            "Increase the number of iterations (max_iter) or scale the data as shown in:\n",
            "    https://scikit-learn.org/stable/modules/preprocessing.html\n",
            "Please also refer to the documentation for alternative solver options:\n",
            "    https://scikit-learn.org/stable/modules/linear_model.html#logistic-regression\n",
            "  n_iter_i = _check_optimize_result(\n",
            "/usr/local/lib/python3.11/dist-packages/sklearn/linear_model/_logistic.py:465: ConvergenceWarning: lbfgs failed to converge (status=1):\n",
            "STOP: TOTAL NO. OF ITERATIONS REACHED LIMIT.\n",
            "\n",
            "Increase the number of iterations (max_iter) or scale the data as shown in:\n",
            "    https://scikit-learn.org/stable/modules/preprocessing.html\n",
            "Please also refer to the documentation for alternative solver options:\n",
            "    https://scikit-learn.org/stable/modules/linear_model.html#logistic-regression\n",
            "  n_iter_i = _check_optimize_result(\n",
            "/usr/local/lib/python3.11/dist-packages/sklearn/linear_model/_logistic.py:465: ConvergenceWarning: lbfgs failed to converge (status=1):\n",
            "STOP: TOTAL NO. OF ITERATIONS REACHED LIMIT.\n",
            "\n",
            "Increase the number of iterations (max_iter) or scale the data as shown in:\n",
            "    https://scikit-learn.org/stable/modules/preprocessing.html\n",
            "Please also refer to the documentation for alternative solver options:\n",
            "    https://scikit-learn.org/stable/modules/linear_model.html#logistic-regression\n",
            "  n_iter_i = _check_optimize_result(\n",
            "/usr/local/lib/python3.11/dist-packages/sklearn/linear_model/_logistic.py:465: ConvergenceWarning: lbfgs failed to converge (status=1):\n",
            "STOP: TOTAL NO. OF ITERATIONS REACHED LIMIT.\n",
            "\n",
            "Increase the number of iterations (max_iter) or scale the data as shown in:\n",
            "    https://scikit-learn.org/stable/modules/preprocessing.html\n",
            "Please also refer to the documentation for alternative solver options:\n",
            "    https://scikit-learn.org/stable/modules/linear_model.html#logistic-regression\n",
            "  n_iter_i = _check_optimize_result(\n"
          ]
        },
        {
          "output_type": "stream",
          "name": "stdout",
          "text": [
            "Decision Tree Accuracy: 0.947\n",
            "SVM Accuracy: 0.947\n",
            "Logistic Regression Accuracy: 0.956\n",
            "Stacking Accuracy: 0.965\n",
            "\n",
            "Stacking performs best.\n"
          ]
        }
      ]
    },
    {
      "cell_type": "code",
      "source": [
        "#37. Train a Random Forest Classifier and print the top 5 most important features.\n",
        "from sklearn.ensemble import RandomForestClassifier\n",
        "from sklearn.datasets import load_breast_cancer\n",
        "from sklearn.model_selection import train_test_split\n",
        "import pandas as pd\n",
        "\n",
        "# Load Breast Cancer dataset\n",
        "breast_cancer = load_breast_cancer()\n",
        "X = breast_cancer.data\n",
        "y = breast_cancer.target\n",
        "feature_names = breast_cancer.feature_names\n",
        "\n",
        "# Split dataset into training and testing sets\n",
        "X_train, X_test, y_train, y_test = train_test_split(X, y, test_size=0.2, random_state=42)\n",
        "\n",
        "# Initialize Random Forest Classifier\n",
        "rf = RandomForestClassifier(n_estimators=100, random_state=42)\n",
        "\n",
        "# Train the model\n",
        "rf.fit(X_train, y_train)\n",
        "\n",
        "# Get feature importance scores\n",
        "feature_importances = rf.feature_importances_\n",
        "\n",
        "# Create a DataFrame to store feature importance scores\n",
        "feature_importance_df = pd.DataFrame({\n",
        "    \"Feature\": feature_names,\n",
        "    \"Importance\": feature_importances\n",
        "})\n",
        "\n",
        "# Sort the DataFrame by importance in descending order\n",
        "feature_importance_df = feature_importance_df.sort_values(by=\"Importance\", ascending=False)\n",
        "\n",
        "# Print top 5 most important features\n",
        "print(\"Top 5 Most Important Features:\")\n",
        "print(feature_importance_df.head(5))"
      ],
      "metadata": {
        "id": "ZiljNI-Rk9FZ",
        "colab": {
          "base_uri": "https://localhost:8080/"
        },
        "outputId": "18b071a1-3a7b-4332-a966-dee41826905b"
      },
      "execution_count": 20,
      "outputs": [
        {
          "output_type": "stream",
          "name": "stdout",
          "text": [
            "Top 5 Most Important Features:\n",
            "                 Feature  Importance\n",
            "23            worst area    0.153892\n",
            "27  worst concave points    0.144663\n",
            "7    mean concave points    0.106210\n",
            "20          worst radius    0.077987\n",
            "6         mean concavity    0.068001\n"
          ]
        }
      ]
    },
    {
      "cell_type": "code",
      "source": [
        "#38. Train a Bagging Classifier and evaluate performance using Precision, Recall, and F1-score.\n",
        "from sklearn.ensemble import BaggingClassifier\n",
        "from sklearn.tree import DecisionTreeClassifier\n",
        "from sklearn.datasets import load_breast_cancer\n",
        "from sklearn.model_selection import train_test_split\n",
        "from sklearn.metrics import precision_score, recall_score, f1_score, accuracy_score, classification_report\n",
        "\n",
        "# Load Breast Cancer dataset\n",
        "breast_cancer = load_breast_cancer()\n",
        "X = breast_cancer.data\n",
        "y = breast_cancer.target\n",
        "\n",
        "# Split dataset into training and testing sets\n",
        "X_train, X_test, y_train, y_test = train_test_split(X, y, test_size=0.2, random_state=42)\n",
        "\n",
        "# Initialize Bagging Classifier\n",
        "bagging = BaggingClassifier(estimator=DecisionTreeClassifier(), n_estimators=10, random_state=42)\n",
        "\n",
        "# Train the model\n",
        "bagging.fit(X_train, y_train)\n",
        "\n",
        "# Predict on testing set\n",
        "y_pred = bagging.predict(X_test)\n",
        "\n",
        "# Calculate performance metrics\n",
        "precision = precision_score(y_test, y_pred)\n",
        "recall = recall_score(y_test, y_pred)\n",
        "f1 = f1_score(y_test, y_pred)\n",
        "accuracy = accuracy_score(y_test, y_pred)\n",
        "\n",
        "# Print performance metrics\n",
        "print(\"Performance Metrics:\")\n",
        "print(f\"Precision: {precision:.3f}\")\n",
        "print(f\"Recall: {recall:.3f}\")\n",
        "print(f\"F1-score: {f1:.3f}\")\n",
        "print(f\"Accuracy: {accuracy:.3f}\")\n",
        "\n",
        "# Print classification report\n",
        "print(\"\\nClassification Report:\")\n",
        "print(classification_report(y_test, y_pred))"
      ],
      "metadata": {
        "id": "37eNZdjwk9IH",
        "colab": {
          "base_uri": "https://localhost:8080/"
        },
        "outputId": "3de1ef4c-5463-43d4-d0af-f9febffb6b8b"
      },
      "execution_count": 21,
      "outputs": [
        {
          "output_type": "stream",
          "name": "stdout",
          "text": [
            "Performance Metrics:\n",
            "Precision: 0.958\n",
            "Recall: 0.972\n",
            "F1-score: 0.965\n",
            "Accuracy: 0.956\n",
            "\n",
            "Classification Report:\n",
            "              precision    recall  f1-score   support\n",
            "\n",
            "           0       0.95      0.93      0.94        43\n",
            "           1       0.96      0.97      0.97        71\n",
            "\n",
            "    accuracy                           0.96       114\n",
            "   macro avg       0.96      0.95      0.95       114\n",
            "weighted avg       0.96      0.96      0.96       114\n",
            "\n"
          ]
        }
      ]
    },
    {
      "cell_type": "code",
      "source": [
        "#39. Train a Random Forest Classifier and analyze the effect of max_depth on accuracy.\n",
        "from sklearn.ensemble import RandomForestClassifier\n",
        "from sklearn.datasets import load_breast_cancer\n",
        "from sklearn.model_selection import train_test_split\n",
        "from sklearn.metrics import accuracy_score\n",
        "import matplotlib.pyplot as plt\n",
        "\n",
        "# Load Breast Cancer dataset\n",
        "breast_cancer = load_breast_cancer()\n",
        "X = breast_cancer.data\n",
        "y = breast_cancer.target\n",
        "\n",
        "# Split dataset into training and testing sets\n",
        "X_train, X_test, y_train, y_test = train_test_split(X, y, test_size=0.2, random_state=42)\n",
        "\n",
        "# Define different max_depth values\n",
        "max_depth_list = [None, 5, 10, 15, 20]\n",
        "\n",
        "# Initialize lists to store accuracy values\n",
        "train_accuracy = []\n",
        "test_accuracy = []\n",
        "\n",
        "# Train Random Forest Classifier with different max_depth values\n",
        "for max_depth in max_depth_list:\n",
        "    rf = RandomForestClassifier(n_estimators=100, max_depth=max_depth, random_state=42)\n",
        "    rf.fit(X_train, y_train)\n",
        "\n",
        "    # Predict on training and testing sets\n",
        "    y_pred_train = rf.predict(X_train)\n",
        "    y_pred_test = rf.predict(X_test)\n",
        "\n",
        "    # Calculate accuracy\n",
        "    train_accuracy.append(accuracy_score(y_train, y_pred_train))\n",
        "    test_accuracy.append(accuracy_score(y_test, y_pred_test))\n",
        "\n",
        "# Plot accuracy values\n",
        "plt.figure(figsize=(10, 6))\n",
        "plt.plot([str(max_depth) for max_depth in max_depth_list], train_accuracy, label=\"Training Accuracy\")\n",
        "plt.plot([str(max_depth) for max_depth in max_depth_list], test_accuracy, label=\"Testing Accuracy\")\n",
        "plt.xlabel(\"Max Depth\")\n",
        "plt.ylabel(\"Accuracy\")\n",
        "plt.title(\"Effect of Max Depth on Accuracy\")\n",
        "plt.legend()\n",
        "plt.show()\n",
        "\n",
        "# Print best max_depth value based on testing accuracy\n",
        "best_max_depth = max_depth_list[test_accuracy.index(max(test_accuracy))]\n",
        "print(f\"Best Max Depth: {best_max_depth}\")\n",
        "print(f\"Best Testing Accuracy: {max(test_accuracy):.3f}\")"
      ],
      "metadata": {
        "id": "i6n1kaiHk9LG",
        "colab": {
          "base_uri": "https://localhost:8080/",
          "height": 599
        },
        "outputId": "4bd5f0ec-ef0d-457a-df6c-de50ecafaa72"
      },
      "execution_count": 22,
      "outputs": [
        {
          "output_type": "display_data",
          "data": {
            "text/plain": [
              "<Figure size 1000x600 with 1 Axes>"
            ],
            "image/png": "[encoded data removed]"
          },
          "metadata": {}
        },
        {
          "output_type": "stream",
          "name": "stdout",
          "text": [
            "Best Max Depth: None\n",
            "Best Testing Accuracy: 0.965\n"
          ]
        }
      ]
    },
    {
      "cell_type": "code",
      "source": [
        "#40. Train a Bagging Regressor using different base estimators (Decision Tree and KNeighbors) and compare performance.\n",
        "from sklearn.ensemble import BaggingRegressor\n",
        "from sklearn.tree import DecisionTreeRegressor\n",
        "from sklearn.neighbors import KNeighborsRegressor\n",
        "from sklearn.datasets import make_regression\n",
        "from sklearn.model_selection import train_test_split\n",
        "from sklearn.metrics import mean_squared_error\n",
        "\n",
        "# Generate a sample regression dataset\n",
        "X, y = make_regression(n_samples=1000, n_features=10, random_state=42)\n",
        "\n",
        "# Split dataset into training and testing sets\n",
        "X_train, X_test, y_train, y_test = train_test_split(X, y, test_size=0.2, random_state=42)\n",
        "\n",
        "# Define base estimators\n",
        "base_estimators = {\n",
        "    \"Decision Tree\": DecisionTreeRegressor(),\n",
        "    \"KNeighbors\": KNeighborsRegressor()\n",
        "}\n",
        "\n",
        "# Train Bagging Regressor with different base estimators\n",
        "for name, estimator in base_estimators.items():\n",
        "    bagging = BaggingRegressor(estimator=estimator, n_estimators=10, random_state=42)\n",
        "    bagging.fit(X_train, y_train)\n",
        "    y_pred = bagging.predict(X_test)\n",
        "    mse = mean_squared_error(y_test, y_pred)\n",
        "    print(f\"{name} Bagging Regressor MSE: {mse:.3f}\")"
      ],
      "metadata": {
        "id": "ba386n5Sk9Oh",
        "colab": {
          "base_uri": "https://localhost:8080/"
        },
        "outputId": "a6a31d39-a7de-40ed-e140-a7ff596ab4a1"
      },
      "execution_count": 23,
      "outputs": [
        {
          "output_type": "stream",
          "name": "stdout",
          "text": [
            "Decision Tree Bagging Regressor MSE: 3658.552\n",
            "KNeighbors Bagging Regressor MSE: 3659.737\n"
          ]
        }
      ]
    },
    {
      "cell_type": "code",
      "source": [
        "#41. Train a Random Forest Classifier and evaluate its performance using ROC-AUC score.\n",
        "from sklearn.ensemble import RandomForestClassifier\n",
        "from sklearn.datasets import load_breast_cancer\n",
        "from sklearn.model_selection import train_test_split\n",
        "from sklearn.metrics import roc_auc_score, roc_curve\n",
        "import matplotlib.pyplot as plt\n",
        "\n",
        "# Load Breast Cancer dataset\n",
        "breast_cancer = load_breast_cancer()\n",
        "X = breast_cancer.data\n",
        "y = breast_cancer.target\n",
        "\n",
        "# Split dataset into training and testing sets\n",
        "X_train, X_test, y_train, y_test = train_test_split(X, y, test_size=0.2, random_state=42)\n",
        "\n",
        "# Initialize Random Forest Classifier\n",
        "rf = RandomForestClassifier(n_estimators=100, random_state=42)\n",
        "\n",
        "# Train the model\n",
        "rf.fit(X_train, y_train)\n",
        "\n",
        "# Predict probabilities on testing set\n",
        "y_pred_proba = rf.predict_proba(X_test)[:, 1]\n",
        "\n",
        "# Calculate ROC-AUC score\n",
        "auc = roc_auc_score(y_test, y_pred_proba)\n",
        "print(f\"ROC-AUC Score: {auc:.3f}\")\n",
        "\n",
        "# Plot ROC curve\n",
        "fpr, tpr, _ = roc_curve(y_test, y_pred_proba)\n",
        "plt.figure(figsize=(8, 6))\n",
        "plt.plot(fpr, tpr, color=\"blue\", label=f\"ROC Curve (AUC = {auc:.3f})\")\n",
        "plt.plot([0, 1], [0, 1], color=\"red\", linestyle=\"--\")\n",
        "plt.xlabel(\"False Positive Rate\")\n",
        "plt.ylabel(\"True Positive Rate\")\n",
        "plt.title(\"ROC Curve\")\n",
        "plt.legend()\n",
        "plt.show()"
      ],
      "metadata": {
        "id": "9fCinOAMk9Q3",
        "colab": {
          "base_uri": "https://localhost:8080/",
          "height": 581
        },
        "outputId": "8025c662-af3c-4b5d-9a9e-7a4038ba6be0"
      },
      "execution_count": 24,
      "outputs": [
        {
          "output_type": "stream",
          "name": "stdout",
          "text": [
            "ROC-AUC Score: 0.995\n"
          ]
        },
        {
          "output_type": "display_data",
          "data": {
            "text/plain": [
              "<Figure size 800x600 with 1 Axes>"
            ],
            "image/png": "[encoded data removed]"
          },
          "metadata": {}
        }
      ]
    },
    {
      "cell_type": "code",
      "source": [
        "#42. Train a Bagging Classifier and evaluate its performance using cross-validation.\n",
        "from sklearn.ensemble import BaggingClassifier\n",
        "from sklearn.tree import DecisionTreeClassifier\n",
        "from sklearn.datasets import load_digits\n",
        "from sklearn.model_selection import cross_val_score\n",
        "from sklearn.model_selection import train_test_split\n",
        "\n",
        "# Load the dataset\n",
        "digit = load_digits()\n",
        "X = digit.data\n",
        "y = digit.target\n",
        "\n",
        "# Split the data into training and testing sets\n",
        "X_train, X_test, y_train, y_test = train_test_split(X, y, test_size=0.2, random_state=42)\n",
        "\n",
        "# Create a Bagging Classifier\n",
        "model = BaggingClassifier(estimator=DecisionTreeClassifier(), n_estimators=10, random_state=42)\n",
        "\n",
        "# Train the model\n",
        "model.fit(X_train, y_train)\n",
        "\n",
        "# Evaluate the model using cross-validation\n",
        "scores = cross_val_score(model, X_train, y_train, cv=5)\n",
        "print(\"Cross-Validation Scores:\", scores)\n",
        "print(\"Average Cross-Validation Score:\", scores.mean())"
      ],
      "metadata": {
        "id": "E-doaO8Kk9Tf",
        "colab": {
          "base_uri": "https://localhost:8080/"
        },
        "outputId": "6f442617-d6c2-4ab1-a08d-dce12e67e44d"
      },
      "execution_count": 26,
      "outputs": [
        {
          "output_type": "stream",
          "name": "stdout",
          "text": [
            "Cross-Validation Scores: [0.94097222 0.92013889 0.91289199 0.94425087 0.91637631]\n",
            "Average Cross-Validation Score: 0.9269260549748355\n"
          ]
        }
      ]
    },
    {
      "cell_type": "code",
      "source": [
        "#43. Train a Random Forest Classifier and plot the Precision-Recall curve.\n",
        "from sklearn.ensemble import RandomForestClassifier\n",
        "from sklearn.datasets import load_breast_cancer\n",
        "from sklearn.model_selection import train_test_split\n",
        "from sklearn.metrics import precision_recall_curve, auc\n",
        "import matplotlib.pyplot as plt\n",
        "\n",
        "# Load Breast Cancer dataset\n",
        "breast_cancer = load_breast_cancer()\n",
        "X = breast_cancer.data\n",
        "y = breast_cancer.target\n",
        "\n",
        "# Split dataset into training and testing sets\n",
        "X_train, X_test, y_train, y_test = train_test_split(X, y, test_size=0.2, random_state=42)\n",
        "\n",
        "# Initialize Random Forest Classifier\n",
        "rf = RandomForestClassifier(n_estimators=100, random_state=42)\n",
        "\n",
        "# Train the model\n",
        "rf.fit(X_train, y_train)\n",
        "\n",
        "# Predict probabilities on testing set\n",
        "y_pred_proba = rf.predict_proba(X_test)[:, 1]\n",
        "\n",
        "# Calculate precision and recall values\n",
        "precision, recall, _ = precision_recall_curve(y_test, y_pred_proba)\n",
        "\n",
        "# Calculate AUC of Precision-Recall curve\n",
        "auc_precision_recall = auc(recall, precision)\n",
        "\n",
        "# Plot Precision-Recall curve\n",
        "plt.figure(figsize=(8, 6))\n",
        "plt.plot(recall, precision, color=\"blue\", label=f\"Precision-Recall Curve (AUC = {auc_precision_recall:.3f})\")\n",
        "plt.xlabel(\"Recall\")\n",
        "plt.ylabel(\"Precision\")\n",
        "plt.title(\"Precision-Recall Curve\")\n",
        "plt.legend()\n",
        "plt.show()"
      ],
      "metadata": {
        "id": "wSwW4zKOk9WP",
        "colab": {
          "base_uri": "https://localhost:8080/",
          "height": 564
        },
        "outputId": "996df20d-5102-4f55-9edd-8649693da05a"
      },
      "execution_count": 27,
      "outputs": [
        {
          "output_type": "display_data",
          "data": {
            "text/plain": [
              "<Figure size 800x600 with 1 Axes>"
            ],
            "image/png": "[encoded data removed]"
          },
          "metadata": {}
        }
      ]
    },
    {
      "cell_type": "code",
      "source": [
        "#44. Train a Stacking Classifier with Random Forest and Logistic Regression and compare accuracy.\n",
        "from sklearn.ensemble import RandomForestClassifier, StackingClassifier\n",
        "from sklearn.linear_model import LogisticRegression\n",
        "from sklearn.datasets import load_breast_cancer\n",
        "from sklearn.model_selection import train_test_split\n",
        "from sklearn.metrics import accuracy_score\n",
        "\n",
        "# Load Breast Cancer dataset\n",
        "breast_cancer = load_breast_cancer()\n",
        "X = breast_cancer.data\n",
        "y = breast_cancer.target\n",
        "\n",
        "# Split dataset into training and testing sets\n",
        "X_train, X_test, y_train, y_test = train_test_split(X, y, test_size=0.2, random_state=42)\n",
        "\n",
        "# Define base models\n",
        "base_models = [\n",
        "    (\"random_forest\", RandomForestClassifier(n_estimators=100, random_state=42)),\n",
        "    (\"logistic_regression\", LogisticRegression(max_iter=1000))\n",
        "]\n",
        "\n",
        "# Define stacking model\n",
        "stacking_model = StackingClassifier(estimators=base_models, final_estimator=LogisticRegression(max_iter=1000))\n",
        "\n",
        "# Train stacking model\n",
        "stacking_model.fit(X_train, y_train)\n",
        "\n",
        "# Predict on testing set\n",
        "y_pred = stacking_model.predict(X_test)\n",
        "\n",
        "# Calculate accuracy\n",
        "accuracy = accuracy_score(y_test, y_pred)\n",
        "print(f\"Stacking Classifier Accuracy: {accuracy:.3f}\")\n",
        "\n",
        "# Compare with individual models\n",
        "rf = RandomForestClassifier(n_estimators=100, random_state=42)\n",
        "rf.fit(X_train, y_train)\n",
        "y_pred_rf = rf.predict(X_test)\n",
        "print(f\"Random Forest Accuracy: {accuracy_score(y_test, y_pred_rf):.3f}\")\n",
        "\n",
        "lr = LogisticRegression(max_iter=1000)\n",
        "lr.fit(X_train, y_train)\n",
        "y_pred_lr = lr.predict(X_test)\n",
        "print(f\"Logistic Regression Accuracy: {accuracy_score(y_test, y_pred_lr):.3f}\")"
      ],
      "metadata": {
        "id": "kvyuk5DRk9ZJ",
        "colab": {
          "base_uri": "https://localhost:8080/"
        },
        "outputId": "7777e1f4-5d9a-455b-e5bf-f791e3c6a3b0"
      },
      "execution_count": 28,
      "outputs": [
        {
          "output_type": "stream",
          "name": "stderr",
          "text": [
            "/usr/local/lib/python3.11/dist-packages/sklearn/linear_model/_logistic.py:465: ConvergenceWarning: lbfgs failed to converge (status=1):\n",
            "STOP: TOTAL NO. OF ITERATIONS REACHED LIMIT.\n",
            "\n",
            "Increase the number of iterations (max_iter) or scale the data as shown in:\n",
            "    https://scikit-learn.org/stable/modules/preprocessing.html\n",
            "Please also refer to the documentation for alternative solver options:\n",
            "    https://scikit-learn.org/stable/modules/linear_model.html#logistic-regression\n",
            "  n_iter_i = _check_optimize_result(\n",
            "/usr/local/lib/python3.11/dist-packages/sklearn/linear_model/_logistic.py:465: ConvergenceWarning: lbfgs failed to converge (status=1):\n",
            "STOP: TOTAL NO. OF ITERATIONS REACHED LIMIT.\n",
            "\n",
            "Increase the number of iterations (max_iter) or scale the data as shown in:\n",
            "    https://scikit-learn.org/stable/modules/preprocessing.html\n",
            "Please also refer to the documentation for alternative solver options:\n",
            "    https://scikit-learn.org/stable/modules/linear_model.html#logistic-regression\n",
            "  n_iter_i = _check_optimize_result(\n",
            "/usr/local/lib/python3.11/dist-packages/sklearn/linear_model/_logistic.py:465: ConvergenceWarning: lbfgs failed to converge (status=1):\n",
            "STOP: TOTAL NO. OF ITERATIONS REACHED LIMIT.\n",
            "\n",
            "Increase the number of iterations (max_iter) or scale the data as shown in:\n",
            "    https://scikit-learn.org/stable/modules/preprocessing.html\n",
            "Please also refer to the documentation for alternative solver options:\n",
            "    https://scikit-learn.org/stable/modules/linear_model.html#logistic-regression\n",
            "  n_iter_i = _check_optimize_result(\n",
            "/usr/local/lib/python3.11/dist-packages/sklearn/linear_model/_logistic.py:465: ConvergenceWarning: lbfgs failed to converge (status=1):\n",
            "STOP: TOTAL NO. OF ITERATIONS REACHED LIMIT.\n",
            "\n",
            "Increase the number of iterations (max_iter) or scale the data as shown in:\n",
            "    https://scikit-learn.org/stable/modules/preprocessing.html\n",
            "Please also refer to the documentation for alternative solver options:\n",
            "    https://scikit-learn.org/stable/modules/linear_model.html#logistic-regression\n",
            "  n_iter_i = _check_optimize_result(\n",
            "/usr/local/lib/python3.11/dist-packages/sklearn/linear_model/_logistic.py:465: ConvergenceWarning: lbfgs failed to converge (status=1):\n",
            "STOP: TOTAL NO. OF ITERATIONS REACHED LIMIT.\n",
            "\n",
            "Increase the number of iterations (max_iter) or scale the data as shown in:\n",
            "    https://scikit-learn.org/stable/modules/preprocessing.html\n",
            "Please also refer to the documentation for alternative solver options:\n",
            "    https://scikit-learn.org/stable/modules/linear_model.html#logistic-regression\n",
            "  n_iter_i = _check_optimize_result(\n",
            "/usr/local/lib/python3.11/dist-packages/sklearn/linear_model/_logistic.py:465: ConvergenceWarning: lbfgs failed to converge (status=1):\n",
            "STOP: TOTAL NO. OF ITERATIONS REACHED LIMIT.\n",
            "\n",
            "Increase the number of iterations (max_iter) or scale the data as shown in:\n",
            "    https://scikit-learn.org/stable/modules/preprocessing.html\n",
            "Please also refer to the documentation for alternative solver options:\n",
            "    https://scikit-learn.org/stable/modules/linear_model.html#logistic-regression\n",
            "  n_iter_i = _check_optimize_result(\n"
          ]
        },
        {
          "output_type": "stream",
          "name": "stdout",
          "text": [
            "Stacking Classifier Accuracy: 0.965\n",
            "Random Forest Accuracy: 0.965\n",
            "Logistic Regression Accuracy: 0.956\n"
          ]
        },
        {
          "output_type": "stream",
          "name": "stderr",
          "text": [
            "/usr/local/lib/python3.11/dist-packages/sklearn/linear_model/_logistic.py:465: ConvergenceWarning: lbfgs failed to converge (status=1):\n",
            "STOP: TOTAL NO. OF ITERATIONS REACHED LIMIT.\n",
            "\n",
            "Increase the number of iterations (max_iter) or scale the data as shown in:\n",
            "    https://scikit-learn.org/stable/modules/preprocessing.html\n",
            "Please also refer to the documentation for alternative solver options:\n",
            "    https://scikit-learn.org/stable/modules/linear_model.html#logistic-regression\n",
            "  n_iter_i = _check_optimize_result(\n"
          ]
        }
      ]
    },
    {
      "cell_type": "code",
      "source": [
        "#45. Train a Bagging Regressor with different levels of bootstrap samples and compare performance.\n",
        "from sklearn.ensemble import BaggingRegressor\n",
        "from sklearn.tree import DecisionTreeRegressor\n",
        "from sklearn.datasets import make_regression\n",
        "from sklearn.model_selection import train_test_split\n",
        "from sklearn.metrics import mean_squared_error\n",
        "import matplotlib.pyplot as plt\n",
        "\n",
        "# Generate a sample regression dataset\n",
        "X, y = make_regression(n_samples=1000, n_features=10, random_state=42)\n",
        "\n",
        "# Split dataset into training and testing sets\n",
        "X_train, X_test, y_train, y_test = train_test_split(X, y, test_size=0.2, random_state=42)\n",
        "\n",
        "# Define different bootstrap sample sizes\n",
        "bootstrap_samples = [0.1, 0.2, 0.5, 0.8, 1.0]\n",
        "\n",
        "# Initialize lists to store performance metrics\n",
        "mse_values = []\n",
        "\n",
        "# Train Bagging Regressor with different bootstrap sample sizes\n",
        "for bootstrap_sample in bootstrap_samples:\n",
        "    bagging = BaggingRegressor(estimator=DecisionTreeRegressor(), n_estimators=10, max_samples=bootstrap_sample, random_state=42)\n",
        "    bagging.fit(X_train, y_train)\n",
        "    y_pred = bagging.predict(X_test)\n",
        "    mse = mean_squared_error(y_test, y_pred)\n",
        "    mse_values.append(mse)\n",
        "    print(f\"Bootstrap Sample Size: {bootstrap_sample}, MSE: {mse:.3f}\")\n",
        "\n",
        "# Plot performance metrics\n",
        "plt.figure(figsize=(8, 6))\n",
        "plt.plot(bootstrap_samples, mse_values, marker=\"o\")\n",
        "plt.xlabel(\"Bootstrap Sample Size\")\n",
        "plt.ylabel(\"Mean Squared Error\")\n",
        "plt.title(\"Effect of Bootstrap Sample Size on Performance\")\n",
        "plt.show()"
      ],
      "metadata": {
        "id": "id5tYmNAk9b8",
        "colab": {
          "base_uri": "https://localhost:8080/",
          "height": 651
        },
        "outputId": "c69e3ff9-9697-4324-b350-132e7d69200f"
      },
      "execution_count": 29,
      "outputs": [
        {
          "output_type": "stream",
          "name": "stdout",
          "text": [
            "Bootstrap Sample Size: 0.1, MSE: 5080.215\n",
            "Bootstrap Sample Size: 0.2, MSE: 4514.351\n",
            "Bootstrap Sample Size: 0.5, MSE: 4032.359\n",
            "Bootstrap Sample Size: 0.8, MSE: 3745.193\n",
            "Bootstrap Sample Size: 1.0, MSE: 3658.552\n"
          ]
        },
        {
          "output_type": "display_data",
          "data": {
            "text/plain": [
              "<Figure size 800x600 with 1 Axes>"
            ],
            "image/png": "[encoded data removed]"
          },
          "metadata": {}
        }
      ]
    }
  ]
}